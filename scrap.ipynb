{
 "cells": [
  {
   "cell_type": "code",
   "execution_count": 14,
   "id": "231b7727",
   "metadata": {},
   "outputs": [],
   "source": [
    "import pandas as pd\n",
    "import numpy as np\n",
    "import os\n",
    "from IPython.display import display, Audio\n",
    "import librosa\n",
    "import random\n",
    "import whisper\n",
    "import adapters"
   ]
  },
  {
   "cell_type": "markdown",
   "id": "b142f81d",
   "metadata": {},
   "source": [
    "- randomly select a single-channel audio stream from the meetings\n",
    "- compile a list of these meetings\n",
    "- create a df with their transcription files\n",
    "- Divide them into train and eval sets"
   ]
  },
  {
   "cell_type": "code",
   "execution_count": 10,
   "id": "31661da4",
   "metadata": {},
   "outputs": [],
   "source": [
    "train_dir =  '/ceph/dpandya/notsofar/train_set/240825.1_train/MTG/'\n",
    "eval_dir = '/ceph/dpandya/notsofar/eval_set/240825.1_eval_full_with_GT/MTG/'\n",
    "train_meetings = os.listdir('/ceph/dpandya/notsofar/train_set/240825.1_train/MTG/')\n",
    "eval_meetings = os.listdir('/ceph/dpandya/notsofar/eval_set/240825.1_eval_full_with_GT/MTG/')"
   ]
  },
  {
   "cell_type": "code",
   "execution_count": 20,
   "id": "3f65841d",
   "metadata": {},
   "outputs": [],
   "source": [
    "train_files = []\n",
    "transcription_files = []\n",
    "mic = []\n",
    "# Iterate through all the train meeting dir and choosing a random single channel audio stream\n",
    "for meet in train_meetings:\n",
    "    stream_list = []\n",
    "    # Collecting all the streams for a meeting\n",
    "    for stream in os.listdir(os.path.join(train_dir, meet)):\n",
    "        if os.path.isdir(os.path.join(train_dir, meet, stream)):\n",
    "            if stream.split('_')[0] == 'sc':\n",
    "                stream_list.append(os.path.join(train_dir, meet, stream, 'ch0.wav'))\n",
    "    random_ = random.choice(stream_list)\n",
    "    \n",
    "    mic.append(random_.split('/')[-2])\n",
    "    train_files.append(random_)\n",
    "    transcription_files.append(os.path.join(train_dir, meet, 'gt_transcription.json'))\n",
    "    "
   ]
  },
  {
   "cell_type": "code",
   "execution_count": 31,
   "id": "2ede91d5",
   "metadata": {},
   "outputs": [],
   "source": [
    "# Do the same process for the eval files, choosing a random single channel audio stream\n",
    "eval_files = []\n",
    "eval_trans = []\n",
    "eval_mic = []\n",
    "# Iterate through all the eval meeting dir and choosing a random single channel audio stream\n",
    "for meet in eval_meetings:\n",
    "    stream_list = []\n",
    "    # Collecting all the streams for a meeting\n",
    "    if os.path.isdir(os.path.join(eval_dir, meet)):\n",
    "        for stream in os.listdir(os.path.join(eval_dir, meet)):\n",
    "            if os.path.isdir(os.path.join(eval_dir, meet, stream)):\n",
    "                if stream.split('_')[0] == 'sc':\n",
    "                    stream_list.append(os.path.join(eval_dir, meet, stream, 'ch0.wav'))\n",
    "        random_ = random.choice(stream_list)\n",
    "    \n",
    "        eval_mic.append(random_.split('/')[-2])\n",
    "        eval_files.append(random_)\n",
    "        eval_trans.append(os.path.join(eval_dir, meet, 'gt_transcription.json'))"
   ]
  },
  {
   "cell_type": "code",
   "execution_count": 35,
   "id": "69b3a0da",
   "metadata": {},
   "outputs": [],
   "source": [
    "train_df = pd.DataFrame()\n",
    "train_df['audio_files'] = train_files\n",
    "train_df['transcription_file'] = transcription_files\n",
    "train_df['mic'] = mic\n",
    "\n",
    "test_df = pd.DataFrame()\n",
    "test_df['audio_files'] = eval_files\n",
    "test_df['transcription_files'] = eval_trans\n",
    "test_df['mic'] = eval_mic"
   ]
  },
  {
   "cell_type": "code",
   "execution_count": 46,
   "id": "c7559661",
   "metadata": {},
   "outputs": [],
   "source": [
    "train_df.to_csv('/ceph/dpandya/notsofar/newNotsofar/train.csv', index=False)\n",
    "test_df.to_csv('/ceph/dpandya/notsofar/newNotsofar/test.csv', index=False)"
   ]
  }
 ],
 "metadata": {
  "kernelspec": {
   "display_name": "onlyWhisper",
   "language": "python",
   "name": "python3"
  },
  "language_info": {
   "codemirror_mode": {
    "name": "ipython",
    "version": 3
   },
   "file_extension": ".py",
   "mimetype": "text/x-python",
   "name": "python",
   "nbconvert_exporter": "python",
   "pygments_lexer": "ipython3",
   "version": "3.11.8"
  }
 },
 "nbformat": 4,
 "nbformat_minor": 5
}
