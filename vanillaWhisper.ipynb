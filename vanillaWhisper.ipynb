{
 "cells": [
  {
   "cell_type": "code",
   "execution_count": 1,
   "id": "f0e5e53d",
   "metadata": {},
   "outputs": [],
   "source": [
    "import pandas as pd\n",
    "import numpy as np\n",
    "import os"
   ]
  },
  {
   "cell_type": "code",
   "execution_count": 2,
   "id": "7777b068",
   "metadata": {},
   "outputs": [],
   "source": [
    "df = pd.read_csv('/ceph/dpandya/notsofar/newNotsofar/test.csv')"
   ]
  },
  {
   "cell_type": "code",
   "execution_count": 6,
   "id": "615be0fe",
   "metadata": {},
   "outputs": [
    {
     "name": "stdout",
     "output_type": "stream",
     "text": [
      "1. Loading Silero VAD model...\n"
     ]
    },
    {
     "name": "stderr",
     "output_type": "stream",
     "text": [
      "Using cache found in /home/dpandya/.cache/torch/hub/snakers4_silero-vad_master\n"
     ]
    },
    {
     "name": "stdout",
     "output_type": "stream",
     "text": [
      "2. Loading audio from /ceph/dpandya/notsofar/eval_set/240825.1_eval_full_with_GT/MTG/MTG_32052/sc_plaza_0/ch0.wav...\n",
      "3. Applying VAD to detect speech segments...\n",
      "4. Refining VAD segments...\n",
      "Found 58 refined speech segments.\n",
      "  Segment 1: Start=6.33s, End=7.78s\n",
      "  Segment 2: Start=8.00s, End=11.01s\n",
      "  Segment 3: Start=11.42s, End=21.41s\n",
      "  Segment 4: Start=21.69s, End=27.97s\n",
      "  Segment 5: Start=28.19s, End=30.47s\n",
      "  Segment 6: Start=30.65s, End=34.53s\n",
      "  Segment 7: Start=34.59s, End=36.00s\n",
      "  Segment 8: Start=36.03s, End=40.13s\n",
      "  Segment 9: Start=40.32s, End=46.08s\n",
      "  Segment 10: Start=46.85s, End=51.75s\n",
      "  Segment 11: Start=51.87s, End=57.60s\n",
      "  Segment 12: Start=57.66s, End=59.20s\n",
      "  Segment 13: Start=59.23s, End=69.57s\n",
      "  Segment 14: Start=70.01s, End=73.25s\n",
      "  Segment 15: Start=73.41s, End=75.23s\n",
      "  Segment 16: Start=75.26s, End=79.39s\n",
      "  Segment 17: Start=79.97s, End=89.63s\n",
      "  Segment 18: Start=90.59s, End=93.67s\n",
      "  Segment 19: Start=93.69s, End=106.88s\n",
      "  Segment 20: Start=107.04s, End=109.25s\n",
      "  Segment 21: Start=109.37s, End=113.86s\n",
      "  Segment 22: Start=114.11s, End=116.83s\n",
      "  Segment 23: Start=117.66s, End=133.35s\n",
      "  Segment 24: Start=133.37s, End=137.76s\n",
      "  Segment 25: Start=138.24s, End=156.29s\n",
      "  Segment 26: Start=156.80s, End=159.14s\n",
      "  Segment 27: Start=159.33s, End=175.20s\n",
      "  Segment 28: Start=175.23s, End=184.74s\n",
      "  Segment 29: Start=184.77s, End=188.35s\n",
      "  Segment 30: Start=188.45s, End=190.37s\n",
      "  Segment 31: Start=190.43s, End=193.51s\n",
      "  Segment 32: Start=193.60s, End=194.82s\n",
      "  Segment 33: Start=194.88s, End=200.10s\n",
      "  Segment 34: Start=200.29s, End=200.83s\n",
      "  Segment 35: Start=200.93s, End=207.78s\n",
      "  Segment 36: Start=207.93s, End=214.21s\n",
      "  Segment 37: Start=214.30s, End=224.00s\n",
      "  Segment 38: Start=224.22s, End=229.92s\n",
      "  Segment 39: Start=230.91s, End=241.19s\n",
      "  Segment 40: Start=241.41s, End=243.65s\n",
      "  Segment 41: Start=243.74s, End=248.90s\n",
      "  Segment 42: Start=249.05s, End=252.64s\n",
      "  Segment 43: Start=252.73s, End=255.01s\n",
      "  Segment 44: Start=255.20s, End=261.92s\n",
      "  Segment 45: Start=262.24s, End=264.67s\n",
      "  Segment 46: Start=264.73s, End=266.88s\n",
      "  Segment 47: Start=267.97s, End=272.61s\n",
      "  Segment 48: Start=273.12s, End=276.42s\n",
      "  Segment 49: Start=276.48s, End=280.58s\n",
      "  Segment 50: Start=280.64s, End=282.75s\n",
      "  Segment 51: Start=282.81s, End=283.49s\n",
      "  Segment 52: Start=283.52s, End=291.11s\n",
      "  Segment 53: Start=291.23s, End=307.71s\n",
      "  Segment 54: Start=307.77s, End=326.24s\n",
      "  Segment 55: Start=326.97s, End=330.79s\n",
      "  Segment 56: Start=330.81s, End=333.22s\n",
      "  Segment 57: Start=333.31s, End=355.14s\n",
      "  Segment 58: Start=355.36s, End=357.19s\n",
      "5. Initializing Whisper large model...\n",
      "6. Processing 58 speech segments with Whisper...\n",
      "  Transcribing segment 1 (6.33s - 7.78s)...\n"
     ]
    },
    {
     "name": "stderr",
     "output_type": "stream",
     "text": [
      "/work/dpandya/miniconda3/envs/onlyWhisper/lib/python3.11/site-packages/transformers/models/whisper/generation_whisper.py:483: FutureWarning: The input name `inputs` is deprecated. Please make sure to use `input_features` instead.\n",
      "  warnings.warn(\n",
      "Due to a bug fix in https://github.com/huggingface/transformers/pull/28687 transcription using a multilingual Whisper will default to language detection followed by transcription instead of translation to English.This might be a breaking change for your use case. If you want to instead always translate your audio to English, make sure to pass `language='en'`.\n",
      "Passing a tuple of `past_key_values` is deprecated and will be removed in Transformers v4.43.0. You should pass an instance of `EncoderDecoderCache` instead, e.g. `past_key_values=EncoderDecoderCache.from_legacy_cache(past_key_values)`.\n",
      "The attention mask is not set and cannot be inferred from input because pad token is same as eos token.As a consequence, you may observe unexpected behavior. Please pass your input's `attention_mask` to obtain reliable results.\n"
     ]
    },
    {
     "name": "stdout",
     "output_type": "stream",
     "text": [
      "    Transcription:  Okay, so here.\n",
      "  Transcribing segment 2 (8.00s - 11.01s)...\n"
     ]
    },
    {
     "name": "stderr",
     "output_type": "stream",
     "text": [
      "/work/dpandya/miniconda3/envs/onlyWhisper/lib/python3.11/site-packages/transformers/models/whisper/generation_whisper.py:483: FutureWarning: The input name `inputs` is deprecated. Please make sure to use `input_features` instead.\n",
      "  warnings.warn(\n"
     ]
    },
    {
     "name": "stdout",
     "output_type": "stream",
     "text": [
      "    Transcription:  We got a big budget in the\n",
      "  Transcribing segment 3 (11.42s - 21.41s)...\n"
     ]
    },
    {
     "name": "stderr",
     "output_type": "stream",
     "text": [
      "/work/dpandya/miniconda3/envs/onlyWhisper/lib/python3.11/site-packages/transformers/models/whisper/generation_whisper.py:483: FutureWarning: The input name `inputs` is deprecated. Please make sure to use `input_features` instead.\n",
      "  warnings.warn(\n"
     ]
    },
    {
     "name": "stdout",
     "output_type": "stream",
     "text": [
      "    Transcription:  office regarding snacks. Oh, right. Yeah. About snacks or luncheon snacks? No, regarding snacks. Okay.\n",
      "  Transcribing segment 4 (21.69s - 27.97s)...\n"
     ]
    },
    {
     "name": "stderr",
     "output_type": "stream",
     "text": [
      "/work/dpandya/miniconda3/envs/onlyWhisper/lib/python3.11/site-packages/transformers/models/whisper/generation_whisper.py:483: FutureWarning: The input name `inputs` is deprecated. Please make sure to use `input_features` instead.\n",
      "  warnings.warn(\n"
     ]
    },
    {
     "name": "stdout",
     "output_type": "stream",
     "text": [
      "    Transcription:  And I know all of us and other people in the office, I just called you guys, but there's also other people in the office that have different preferences\n",
      "  Transcribing segment 5 (28.19s - 30.47s)...\n"
     ]
    },
    {
     "name": "stderr",
     "output_type": "stream",
     "text": [
      "/work/dpandya/miniconda3/envs/onlyWhisper/lib/python3.11/site-packages/transformers/models/whisper/generation_whisper.py:483: FutureWarning: The input name `inputs` is deprecated. Please make sure to use `input_features` instead.\n",
      "  warnings.warn(\n"
     ]
    },
    {
     "name": "stdout",
     "output_type": "stream",
     "text": [
      "    Transcription:  with foods that have food restrictions.\n",
      "  Transcribing segment 6 (30.65s - 34.53s)...\n"
     ]
    },
    {
     "name": "stderr",
     "output_type": "stream",
     "text": [
      "/work/dpandya/miniconda3/envs/onlyWhisper/lib/python3.11/site-packages/transformers/models/whisper/generation_whisper.py:483: FutureWarning: The input name `inputs` is deprecated. Please make sure to use `input_features` instead.\n",
      "  warnings.warn(\n"
     ]
    },
    {
     "name": "stdout",
     "output_type": "stream",
     "text": [
      "    Transcription:  So even though we have a big budget, we want to make the most out of it.\n",
      "  Transcribing segment 7 (34.59s - 36.00s)...\n"
     ]
    },
    {
     "name": "stderr",
     "output_type": "stream",
     "text": [
      "/work/dpandya/miniconda3/envs/onlyWhisper/lib/python3.11/site-packages/transformers/models/whisper/generation_whisper.py:483: FutureWarning: The input name `inputs` is deprecated. Please make sure to use `input_features` instead.\n",
      "  warnings.warn(\n"
     ]
    },
    {
     "name": "stdout",
     "output_type": "stream",
     "text": [
      "    Transcription:  Is there something that you guys would\n",
      "  Transcribing segment 8 (36.03s - 40.13s)...\n"
     ]
    },
    {
     "name": "stderr",
     "output_type": "stream",
     "text": [
      "/work/dpandya/miniconda3/envs/onlyWhisper/lib/python3.11/site-packages/transformers/models/whisper/generation_whisper.py:483: FutureWarning: The input name `inputs` is deprecated. Please make sure to use `input_features` instead.\n",
      "  warnings.warn(\n"
     ]
    },
    {
     "name": "stdout",
     "output_type": "stream",
     "text": [
      "    Transcription:  prefer to have or not to have an office. Big budget means\n",
      "  Transcribing segment 9 (40.32s - 46.08s)...\n"
     ]
    },
    {
     "name": "stderr",
     "output_type": "stream",
     "text": [
      "/work/dpandya/miniconda3/envs/onlyWhisper/lib/python3.11/site-packages/transformers/models/whisper/generation_whisper.py:483: FutureWarning: The input name `inputs` is deprecated. Please make sure to use `input_features` instead.\n",
      "  warnings.warn(\n"
     ]
    },
    {
     "name": "stdout",
     "output_type": "stream",
     "text": [
      "    Transcription:  on the quantity we can buy or the quality we can buy? Quality. Quality.\n",
      "  Transcribing segment 10 (46.85s - 51.75s)...\n"
     ]
    },
    {
     "name": "stderr",
     "output_type": "stream",
     "text": [
      "/work/dpandya/miniconda3/envs/onlyWhisper/lib/python3.11/site-packages/transformers/models/whisper/generation_whisper.py:483: FutureWarning: The input name `inputs` is deprecated. Please make sure to use `input_features` instead.\n",
      "  warnings.warn(\n",
      "You seem to be using the pipelines sequentially on GPU. In order to maximize efficiency please use a dataset\n"
     ]
    },
    {
     "name": "stdout",
     "output_type": "stream",
     "text": [
      "    Transcription:  I'm nuts about nuts. So we're talking about quality. Pistachio.\n",
      "  Transcribing segment 11 (51.87s - 57.60s)...\n"
     ]
    },
    {
     "name": "stderr",
     "output_type": "stream",
     "text": [
      "/work/dpandya/miniconda3/envs/onlyWhisper/lib/python3.11/site-packages/transformers/models/whisper/generation_whisper.py:483: FutureWarning: The input name `inputs` is deprecated. Please make sure to use `input_features` instead.\n",
      "  warnings.warn(\n"
     ]
    },
    {
     "name": "stdout",
     "output_type": "stream",
     "text": [
      "    Transcription:  Pistachios, pecans, and cashews. Macadamia. Macadamia. Brazil.\n",
      "  Transcribing segment 12 (57.66s - 59.20s)...\n"
     ]
    },
    {
     "name": "stderr",
     "output_type": "stream",
     "text": [
      "/work/dpandya/miniconda3/envs/onlyWhisper/lib/python3.11/site-packages/transformers/models/whisper/generation_whisper.py:483: FutureWarning: The input name `inputs` is deprecated. Please make sure to use `input_features` instead.\n",
      "  warnings.warn(\n"
     ]
    },
    {
     "name": "stdout",
     "output_type": "stream",
     "text": [
      "    Transcription:  Brazil, no.\n",
      "  Transcribing segment 13 (59.23s - 69.57s)...\n"
     ]
    },
    {
     "name": "stderr",
     "output_type": "stream",
     "text": [
      "/work/dpandya/miniconda3/envs/onlyWhisper/lib/python3.11/site-packages/transformers/models/whisper/generation_whisper.py:483: FutureWarning: The input name `inputs` is deprecated. Please make sure to use `input_features` instead.\n",
      "  warnings.warn(\n"
     ]
    },
    {
     "name": "stdout",
     "output_type": "stream",
     "text": [
      "    Transcription:  Yeah, but who eats it? Monkey nuts. I do. Healthy people. That's right. They're the best snack. They're not healthy. We want healthy bodies, healthy brains here. I don't care for healthy stuff.\n",
      "  Transcribing segment 14 (70.01s - 73.25s)...\n"
     ]
    },
    {
     "name": "stderr",
     "output_type": "stream",
     "text": [
      "/work/dpandya/miniconda3/envs/onlyWhisper/lib/python3.11/site-packages/transformers/models/whisper/generation_whisper.py:483: FutureWarning: The input name `inputs` is deprecated. Please make sure to use `input_features` instead.\n",
      "  warnings.warn(\n"
     ]
    },
    {
     "name": "stdout",
     "output_type": "stream",
     "text": [
      "    Transcription:  You don't care about... No, like, I think it's kind of a waste of money.\n",
      "  Transcribing segment 15 (73.41s - 75.23s)...\n"
     ]
    },
    {
     "name": "stderr",
     "output_type": "stream",
     "text": [
      "/work/dpandya/miniconda3/envs/onlyWhisper/lib/python3.11/site-packages/transformers/models/whisper/generation_whisper.py:483: FutureWarning: The input name `inputs` is deprecated. Please make sure to use `input_features` instead.\n",
      "  warnings.warn(\n"
     ]
    },
    {
     "name": "stdout",
     "output_type": "stream",
     "text": [
      "    Transcription:  All right, so what are you looking for?\n",
      "  Transcribing segment 16 (75.26s - 79.39s)...\n"
     ]
    },
    {
     "name": "stderr",
     "output_type": "stream",
     "text": [
      "/work/dpandya/miniconda3/envs/onlyWhisper/lib/python3.11/site-packages/transformers/models/whisper/generation_whisper.py:483: FutureWarning: The input name `inputs` is deprecated. Please make sure to use `input_features` instead.\n",
      "  warnings.warn(\n"
     ]
    },
    {
     "name": "stdout",
     "output_type": "stream",
     "text": [
      "    Transcription:  I think we should have like ice cream. Ice cream is not the snack.\n",
      "  Transcribing segment 17 (79.97s - 89.63s)...\n"
     ]
    },
    {
     "name": "stderr",
     "output_type": "stream",
     "text": [
      "/work/dpandya/miniconda3/envs/onlyWhisper/lib/python3.11/site-packages/transformers/models/whisper/generation_whisper.py:483: FutureWarning: The input name `inputs` is deprecated. Please make sure to use `input_features` instead.\n",
      "  warnings.warn(\n"
     ]
    },
    {
     "name": "stdout",
     "output_type": "stream",
     "text": [
      "    Transcription:  I think it's a snack. Chocolate bars. At least if we have a soft serve machine, we can have goat's milk.\n",
      "  Transcribing segment 18 (90.59s - 93.67s)...\n"
     ]
    },
    {
     "name": "stderr",
     "output_type": "stream",
     "text": [
      "/work/dpandya/miniconda3/envs/onlyWhisper/lib/python3.11/site-packages/transformers/models/whisper/generation_whisper.py:483: FutureWarning: The input name `inputs` is deprecated. Please make sure to use `input_features` instead.\n",
      "  warnings.warn(\n"
     ]
    },
    {
     "name": "stdout",
     "output_type": "stream",
     "text": [
      "    Transcription:  Go on. A small con machine.\n",
      "  Transcribing segment 19 (93.69s - 106.88s)...\n"
     ]
    },
    {
     "name": "stderr",
     "output_type": "stream",
     "text": [
      "/work/dpandya/miniconda3/envs/onlyWhisper/lib/python3.11/site-packages/transformers/models/whisper/generation_whisper.py:483: FutureWarning: The input name `inputs` is deprecated. Please make sure to use `input_features` instead.\n",
      "  warnings.warn(\n"
     ]
    },
    {
     "name": "stdout",
     "output_type": "stream",
     "text": [
      "    Transcription:  popcorn is nice yeah popcorn machine stinks out the office like you can't believe it stinks out the office yeah it smells so good would you want that it smells like popcorn is a very\n",
      "  Transcribing segment 20 (107.04s - 109.25s)...\n"
     ]
    },
    {
     "name": "stderr",
     "output_type": "stream",
     "text": [
      "/work/dpandya/miniconda3/envs/onlyWhisper/lib/python3.11/site-packages/transformers/models/whisper/generation_whisper.py:483: FutureWarning: The input name `inputs` is deprecated. Please make sure to use `input_features` instead.\n",
      "  warnings.warn(\n"
     ]
    },
    {
     "name": "stdout",
     "output_type": "stream",
     "text": [
      "    Transcription:  We love our child boards and\n",
      "  Transcribing segment 21 (109.37s - 113.86s)...\n"
     ]
    },
    {
     "name": "stderr",
     "output_type": "stream",
     "text": [
      "/work/dpandya/miniconda3/envs/onlyWhisper/lib/python3.11/site-packages/transformers/models/whisper/generation_whisper.py:483: FutureWarning: The input name `inputs` is deprecated. Please make sure to use `input_features` instead.\n",
      "  warnings.warn(\n"
     ]
    },
    {
     "name": "stdout",
     "output_type": "stream",
     "text": [
      "    Transcription:  No unhealthy snacks for what I'm supposed to eat. No, no, no. No natural popcorn without the butter.\n",
      "  Transcribing segment 22 (114.11s - 116.83s)...\n"
     ]
    },
    {
     "name": "stderr",
     "output_type": "stream",
     "text": [
      "/work/dpandya/miniconda3/envs/onlyWhisper/lib/python3.11/site-packages/transformers/models/whisper/generation_whisper.py:483: FutureWarning: The input name `inputs` is deprecated. Please make sure to use `input_features` instead.\n",
      "  warnings.warn(\n"
     ]
    },
    {
     "name": "stdout",
     "output_type": "stream",
     "text": [
      "    Transcription:  That's not popcorn then.\n",
      "  Transcribing segment 23 (117.66s - 133.35s)...\n"
     ]
    },
    {
     "name": "stderr",
     "output_type": "stream",
     "text": [
      "/work/dpandya/miniconda3/envs/onlyWhisper/lib/python3.11/site-packages/transformers/models/whisper/generation_whisper.py:483: FutureWarning: The input name `inputs` is deprecated. Please make sure to use `input_features` instead.\n",
      "  warnings.warn(\n"
     ]
    },
    {
     "name": "stdout",
     "output_type": "stream",
     "text": [
      "    Transcription:  Popcorn without butter. Are you talking about candy and things like that? Candy, Sour Patch. Does that mean that we have... Wait, wait, wait. Do we have to say... I mean, that's just like... Does that mean that we have... Perhaps everyone else. I know that we have the budget, but... But we can have self-control. I want my unhealthy snacks. Mm-hmm.\n",
      "  Transcribing segment 24 (133.37s - 137.76s)...\n"
     ]
    },
    {
     "name": "stderr",
     "output_type": "stream",
     "text": [
      "/work/dpandya/miniconda3/envs/onlyWhisper/lib/python3.11/site-packages/transformers/models/whisper/generation_whisper.py:483: FutureWarning: The input name `inputs` is deprecated. Please make sure to use `input_features` instead.\n",
      "  warnings.warn(\n"
     ]
    },
    {
     "name": "stdout",
     "output_type": "stream",
     "text": [
      "    Transcription:  Does that mean also because we have to merge it that we have to remodel the kitchen?\n",
      "  Transcribing segment 25 (138.24s - 156.29s)...\n"
     ]
    },
    {
     "name": "stderr",
     "output_type": "stream",
     "text": [
      "/work/dpandya/miniconda3/envs/onlyWhisper/lib/python3.11/site-packages/transformers/models/whisper/generation_whisper.py:483: FutureWarning: The input name `inputs` is deprecated. Please make sure to use `input_features` instead.\n",
      "  warnings.warn(\n"
     ]
    },
    {
     "name": "stdout",
     "output_type": "stream",
     "text": [
      "    Transcription:  to be able to get all of that. No, no, no. Well, we don't have enough. We need it all for snacks. People are hungry. I know, but we don't have enough in a food to store all of that. Do we need more storage? Do we need more cabinets? Do we need another? No, we've got the walk-in fridges already. That's our big product.\n",
      "  Transcribing segment 26 (156.80s - 159.14s)...\n"
     ]
    },
    {
     "name": "stderr",
     "output_type": "stream",
     "text": [
      "/work/dpandya/miniconda3/envs/onlyWhisper/lib/python3.11/site-packages/transformers/models/whisper/generation_whisper.py:483: FutureWarning: The input name `inputs` is deprecated. Please make sure to use `input_features` instead.\n",
      "  warnings.warn(\n"
     ]
    },
    {
     "name": "stdout",
     "output_type": "stream",
     "text": [
      "    Transcription:  Maybe we can just bring in another walk-in fridge.\n",
      "  Transcribing segment 27 (159.33s - 175.20s)...\n"
     ]
    },
    {
     "name": "stderr",
     "output_type": "stream",
     "text": [
      "/work/dpandya/miniconda3/envs/onlyWhisper/lib/python3.11/site-packages/transformers/models/whisper/generation_whisper.py:483: FutureWarning: The input name `inputs` is deprecated. Please make sure to use `input_features` instead.\n",
      "  warnings.warn(\n"
     ]
    },
    {
     "name": "stdout",
     "output_type": "stream",
     "text": [
      "    Transcription:  I suggest that we have a barista, let's say, in the morning hours. That's a nice thing. And then a barista turns into an ice cream soda maker, let's say, just after lunch so that people can have something sweet and they can carry them on for the day.\n",
      "  Transcribing segment 28 (175.23s - 184.74s)...\n"
     ]
    },
    {
     "name": "stderr",
     "output_type": "stream",
     "text": [
      "/work/dpandya/miniconda3/envs/onlyWhisper/lib/python3.11/site-packages/transformers/models/whisper/generation_whisper.py:483: FutureWarning: The input name `inputs` is deprecated. Please make sure to use `input_features` instead.\n",
      "  warnings.warn(\n"
     ]
    },
    {
     "name": "stdout",
     "output_type": "stream",
     "text": [
      "    Transcription:  That's really healthy. That's really healthy. Yes, yes, yes. I'm thinking about your calorie requirements.\n",
      "  Transcribing segment 29 (184.77s - 188.35s)...\n"
     ]
    },
    {
     "name": "stderr",
     "output_type": "stream",
     "text": [
      "/work/dpandya/miniconda3/envs/onlyWhisper/lib/python3.11/site-packages/transformers/models/whisper/generation_whisper.py:483: FutureWarning: The input name `inputs` is deprecated. Please make sure to use `input_features` instead.\n",
      "  warnings.warn(\n"
     ]
    },
    {
     "name": "stdout",
     "output_type": "stream",
     "text": [
      "    Transcription:  Yeah. And we have to think seriously about people's caffeine requirements.\n",
      "  Transcribing segment 30 (188.45s - 190.37s)...\n"
     ]
    },
    {
     "name": "stderr",
     "output_type": "stream",
     "text": [
      "/work/dpandya/miniconda3/envs/onlyWhisper/lib/python3.11/site-packages/transformers/models/whisper/generation_whisper.py:483: FutureWarning: The input name `inputs` is deprecated. Please make sure to use `input_features` instead.\n",
      "  warnings.warn(\n"
     ]
    },
    {
     "name": "stdout",
     "output_type": "stream",
     "text": [
      "    Transcription:  That's the very first.\n",
      "  Transcribing segment 31 (190.43s - 193.51s)...\n"
     ]
    },
    {
     "name": "stderr",
     "output_type": "stream",
     "text": [
      "/work/dpandya/miniconda3/envs/onlyWhisper/lib/python3.11/site-packages/transformers/models/whisper/generation_whisper.py:483: FutureWarning: The input name `inputs` is deprecated. Please make sure to use `input_features` instead.\n",
      "  warnings.warn(\n"
     ]
    },
    {
     "name": "stdout",
     "output_type": "stream",
     "text": [
      "    Transcription:  I think everyone drinks at least four cups a day.\n",
      "  Transcribing segment 32 (193.60s - 194.82s)...\n"
     ]
    },
    {
     "name": "stderr",
     "output_type": "stream",
     "text": [
      "/work/dpandya/miniconda3/envs/onlyWhisper/lib/python3.11/site-packages/transformers/models/whisper/generation_whisper.py:483: FutureWarning: The input name `inputs` is deprecated. Please make sure to use `input_features` instead.\n",
      "  warnings.warn(\n"
     ]
    },
    {
     "name": "stdout",
     "output_type": "stream",
     "text": [
      "    Transcription:  And it was healthy.\n",
      "  Transcribing segment 33 (194.88s - 200.10s)...\n"
     ]
    },
    {
     "name": "stderr",
     "output_type": "stream",
     "text": [
      "/work/dpandya/miniconda3/envs/onlyWhisper/lib/python3.11/site-packages/transformers/models/whisper/generation_whisper.py:483: FutureWarning: The input name `inputs` is deprecated. Please make sure to use `input_features` instead.\n",
      "  warnings.warn(\n"
     ]
    },
    {
     "name": "stdout",
     "output_type": "stream",
     "text": [
      "    Transcription:  It won't just be dreams. Are we taking care of their health or are we just taking care of what they want? Both.\n",
      "  Transcribing segment 34 (200.29s - 200.83s)...\n"
     ]
    },
    {
     "name": "stderr",
     "output_type": "stream",
     "text": [
      "/work/dpandya/miniconda3/envs/onlyWhisper/lib/python3.11/site-packages/transformers/models/whisper/generation_whisper.py:483: FutureWarning: The input name `inputs` is deprecated. Please make sure to use `input_features` instead.\n",
      "  warnings.warn(\n"
     ]
    },
    {
     "name": "stdout",
     "output_type": "stream",
     "text": [
      "    Transcription:  Στος.\n",
      "  Transcribing segment 35 (200.93s - 207.78s)...\n"
     ]
    },
    {
     "name": "stderr",
     "output_type": "stream",
     "text": [
      "/work/dpandya/miniconda3/envs/onlyWhisper/lib/python3.11/site-packages/transformers/models/whisper/generation_whisper.py:483: FutureWarning: The input name `inputs` is deprecated. Please make sure to use `input_features` instead.\n",
      "  warnings.warn(\n"
     ]
    },
    {
     "name": "stdout",
     "output_type": "stream",
     "text": [
      "    Transcription:  Because we know what sugar does to you. Well, I think that if we're going to have these baristas in this, then I want a real sushi barista.\n",
      "  Transcribing segment 36 (207.93s - 214.21s)...\n"
     ]
    },
    {
     "name": "stderr",
     "output_type": "stream",
     "text": [
      "/work/dpandya/miniconda3/envs/onlyWhisper/lib/python3.11/site-packages/transformers/models/whisper/generation_whisper.py:483: FutureWarning: The input name `inputs` is deprecated. Please make sure to use `input_features` instead.\n",
      "  warnings.warn(\n"
     ]
    },
    {
     "name": "stdout",
     "output_type": "stream",
     "text": [
      "    Transcription:  station as well sushi is not the snack total snack and it's the healthiest food\n",
      "  Transcribing segment 37 (214.30s - 224.00s)...\n"
     ]
    },
    {
     "name": "stderr",
     "output_type": "stream",
     "text": [
      "/work/dpandya/miniconda3/envs/onlyWhisper/lib/python3.11/site-packages/transformers/models/whisper/generation_whisper.py:483: FutureWarning: The input name `inputs` is deprecated. Please make sure to use `input_features` instead.\n",
      "  warnings.warn(\n"
     ]
    },
    {
     "name": "stdout",
     "output_type": "stream",
     "text": [
      "    Transcription:  in this world and it keeps me motivated. It's good having a sashimi buffet. Again, then we need to upgrade our kitchen.\n",
      "  Transcribing segment 38 (224.22s - 229.92s)...\n"
     ]
    },
    {
     "name": "stderr",
     "output_type": "stream",
     "text": [
      "/work/dpandya/miniconda3/envs/onlyWhisper/lib/python3.11/site-packages/transformers/models/whisper/generation_whisper.py:483: FutureWarning: The input name `inputs` is deprecated. Please make sure to use `input_features` instead.\n",
      "  warnings.warn(\n"
     ]
    },
    {
     "name": "stdout",
     "output_type": "stream",
     "text": [
      "    Transcription:  Now it takes more budget off. I mean, we do have a pretty big budget that we can add another few\n",
      "  Transcribing segment 39 (230.91s - 241.19s)...\n"
     ]
    },
    {
     "name": "stderr",
     "output_type": "stream",
     "text": [
      "/work/dpandya/miniconda3/envs/onlyWhisper/lib/python3.11/site-packages/transformers/models/whisper/generation_whisper.py:483: FutureWarning: The input name `inputs` is deprecated. Please make sure to use `input_features` instead.\n",
      "  warnings.warn(\n"
     ]
    },
    {
     "name": "stdout",
     "output_type": "stream",
     "text": [
      "    Transcription:  islands. It's also using the product, you know, we could have the robot make the sushi. For me, I can't compare it to\n",
      "  Transcribing segment 40 (241.41s - 243.65s)...\n"
     ]
    },
    {
     "name": "stderr",
     "output_type": "stream",
     "text": [
      "/work/dpandya/miniconda3/envs/onlyWhisper/lib/python3.11/site-packages/transformers/models/whisper/generation_whisper.py:483: FutureWarning: The input name `inputs` is deprecated. Please make sure to use `input_features` instead.\n",
      "  warnings.warn(\n"
     ]
    },
    {
     "name": "stdout",
     "output_type": "stream",
     "text": [
      "    Transcription:  technology.\n",
      "  Transcribing segment 41 (243.74s - 248.90s)...\n"
     ]
    },
    {
     "name": "stderr",
     "output_type": "stream",
     "text": [
      "/work/dpandya/miniconda3/envs/onlyWhisper/lib/python3.11/site-packages/transformers/models/whisper/generation_whisper.py:483: FutureWarning: The input name `inputs` is deprecated. Please make sure to use `input_features` instead.\n",
      "  warnings.warn(\n"
     ]
    },
    {
     "name": "stdout",
     "output_type": "stream",
     "text": [
      "    Transcription:  For me, snacks is something that can stay overnight without getting ruined.\n",
      "  Transcribing segment 42 (249.05s - 252.64s)...\n"
     ]
    },
    {
     "name": "stderr",
     "output_type": "stream",
     "text": [
      "/work/dpandya/miniconda3/envs/onlyWhisper/lib/python3.11/site-packages/transformers/models/whisper/generation_whisper.py:483: FutureWarning: The input name `inputs` is deprecated. Please make sure to use `input_features` instead.\n",
      "  warnings.warn(\n"
     ]
    },
    {
     "name": "stdout",
     "output_type": "stream",
     "text": [
      "    Transcription:  I don't see sushi like an option because\n",
      "  Transcribing segment 43 (252.73s - 255.01s)...\n"
     ]
    },
    {
     "name": "stderr",
     "output_type": "stream",
     "text": [
      "/work/dpandya/miniconda3/envs/onlyWhisper/lib/python3.11/site-packages/transformers/models/whisper/generation_whisper.py:483: FutureWarning: The input name `inputs` is deprecated. Please make sure to use `input_features` instead.\n",
      "  warnings.warn(\n"
     ]
    },
    {
     "name": "stdout",
     "output_type": "stream",
     "text": [
      "    Transcription:  It's a snack is a snack is a snack.\n",
      "  Transcribing segment 44 (255.20s - 261.92s)...\n"
     ]
    },
    {
     "name": "stderr",
     "output_type": "stream",
     "text": [
      "/work/dpandya/miniconda3/envs/onlyWhisper/lib/python3.11/site-packages/transformers/models/whisper/generation_whisper.py:483: FutureWarning: The input name `inputs` is deprecated. Please make sure to use `input_features` instead.\n",
      "  warnings.warn(\n"
     ]
    },
    {
     "name": "stdout",
     "output_type": "stream",
     "text": [
      "    Transcription:  it has to be able to be well we can listen well then what about our dim sum robot\n",
      "  Transcribing segment 45 (262.24s - 264.67s)...\n"
     ]
    },
    {
     "name": "stderr",
     "output_type": "stream",
     "text": [
      "/work/dpandya/miniconda3/envs/onlyWhisper/lib/python3.11/site-packages/transformers/models/whisper/generation_whisper.py:483: FutureWarning: The input name `inputs` is deprecated. Please make sure to use `input_features` instead.\n",
      "  warnings.warn(\n"
     ]
    },
    {
     "name": "stdout",
     "output_type": "stream",
     "text": [
      "    Transcription:  wagons coming around to our desks.\n",
      "  Transcribing segment 46 (264.73s - 266.88s)...\n"
     ]
    },
    {
     "name": "stderr",
     "output_type": "stream",
     "text": [
      "/work/dpandya/miniconda3/envs/onlyWhisper/lib/python3.11/site-packages/transformers/models/whisper/generation_whisper.py:483: FutureWarning: The input name `inputs` is deprecated. Please make sure to use `input_features` instead.\n",
      "  warnings.warn(\n"
     ]
    },
    {
     "name": "stdout",
     "output_type": "stream",
     "text": [
      "    Transcription:  Yeah.\n",
      "  Transcribing segment 47 (267.97s - 272.61s)...\n"
     ]
    },
    {
     "name": "stderr",
     "output_type": "stream",
     "text": [
      "/work/dpandya/miniconda3/envs/onlyWhisper/lib/python3.11/site-packages/transformers/models/whisper/generation_whisper.py:483: FutureWarning: The input name `inputs` is deprecated. Please make sure to use `input_features` instead.\n",
      "  warnings.warn(\n"
     ]
    },
    {
     "name": "stdout",
     "output_type": "stream",
     "text": [
      "    Transcription:  All right, so Rachel, you wanted to talk about more kitchen remodeling.\n",
      "  Transcribing segment 48 (273.12s - 276.42s)...\n"
     ]
    },
    {
     "name": "stderr",
     "output_type": "stream",
     "text": [
      "/work/dpandya/miniconda3/envs/onlyWhisper/lib/python3.11/site-packages/transformers/models/whisper/generation_whisper.py:483: FutureWarning: The input name `inputs` is deprecated. Please make sure to use `input_features` instead.\n",
      "  warnings.warn(\n"
     ]
    },
    {
     "name": "stdout",
     "output_type": "stream",
     "text": [
      "    Transcription:  We need a quote for that. Let's do that.\n",
      "  Transcribing segment 49 (276.48s - 280.58s)...\n"
     ]
    },
    {
     "name": "stderr",
     "output_type": "stream",
     "text": [
      "/work/dpandya/miniconda3/envs/onlyWhisper/lib/python3.11/site-packages/transformers/models/whisper/generation_whisper.py:483: FutureWarning: The input name `inputs` is deprecated. Please make sure to use `input_features` instead.\n",
      "  warnings.warn(\n"
     ]
    },
    {
     "name": "stdout",
     "output_type": "stream",
     "text": [
      "    Transcription:  At the next meeting, we'll have the list of the new snacks we're going to\n",
      "  Transcribing segment 50 (280.64s - 282.75s)...\n"
     ]
    },
    {
     "name": "stderr",
     "output_type": "stream",
     "text": [
      "/work/dpandya/miniconda3/envs/onlyWhisper/lib/python3.11/site-packages/transformers/models/whisper/generation_whisper.py:483: FutureWarning: The input name `inputs` is deprecated. Please make sure to use `input_features` instead.\n",
      "  warnings.warn(\n"
     ]
    },
    {
     "name": "stdout",
     "output_type": "stream",
     "text": [
      "    Transcription:  bring in that need to be\n",
      "  Transcribing segment 51 (282.81s - 283.49s)...\n"
     ]
    },
    {
     "name": "stderr",
     "output_type": "stream",
     "text": [
      "/work/dpandya/miniconda3/envs/onlyWhisper/lib/python3.11/site-packages/transformers/models/whisper/generation_whisper.py:483: FutureWarning: The input name `inputs` is deprecated. Please make sure to use `input_features` instead.\n",
      "  warnings.warn(\n"
     ]
    },
    {
     "name": "stdout",
     "output_type": "stream",
     "text": [
      "    Transcription:  you know,\n",
      "  Transcribing segment 52 (283.52s - 291.11s)...\n"
     ]
    },
    {
     "name": "stderr",
     "output_type": "stream",
     "text": [
      "/work/dpandya/miniconda3/envs/onlyWhisper/lib/python3.11/site-packages/transformers/models/whisper/generation_whisper.py:483: FutureWarning: The input name `inputs` is deprecated. Please make sure to use `input_features` instead.\n",
      "  warnings.warn(\n"
     ]
    },
    {
     "name": "stdout",
     "output_type": "stream",
     "text": [
      "    Transcription:  maybe storage differently and then we'll fix it. So you sort that out by the 25th?\n",
      "  Transcribing segment 53 (291.23s - 307.71s)...\n"
     ]
    },
    {
     "name": "stderr",
     "output_type": "stream",
     "text": [
      "/work/dpandya/miniconda3/envs/onlyWhisper/lib/python3.11/site-packages/transformers/models/whisper/generation_whisper.py:483: FutureWarning: The input name `inputs` is deprecated. Please make sure to use `input_features` instead.\n",
      "  warnings.warn(\n"
     ]
    },
    {
     "name": "stdout",
     "output_type": "stream",
     "text": [
      "    Transcription:  specialists in ice cream soda making that we can bring and how much it will cost to rent it. And then the dim sum wagon, I'll speak to our tech guy because we can put one of our products on the floor and we can do quality control like that as well. Great.\n",
      "  Transcribing segment 54 (307.77s - 326.24s)...\n"
     ]
    },
    {
     "name": "stderr",
     "output_type": "stream",
     "text": [
      "/work/dpandya/miniconda3/envs/onlyWhisper/lib/python3.11/site-packages/transformers/models/whisper/generation_whisper.py:483: FutureWarning: The input name `inputs` is deprecated. Please make sure to use `input_features` instead.\n",
      "  warnings.warn(\n"
     ]
    },
    {
     "name": "stdout",
     "output_type": "stream",
     "text": [
      "    Transcription:  Are we going to bring this to a vote with all the employees or is this going to be decided just by us? I think if we bring it to a vote, it's going to be too controversial. Nobody will ever agree on anything. We're going to make the decision for the whole company. We'll make the decision and people leave the company because of it. Are we going to bring it to a vote in our group?\n",
      "  Transcribing segment 55 (326.97s - 330.79s)...\n"
     ]
    },
    {
     "name": "stderr",
     "output_type": "stream",
     "text": [
      "/work/dpandya/miniconda3/envs/onlyWhisper/lib/python3.11/site-packages/transformers/models/whisper/generation_whisper.py:483: FutureWarning: The input name `inputs` is deprecated. Please make sure to use `input_features` instead.\n",
      "  warnings.warn(\n"
     ]
    },
    {
     "name": "stdout",
     "output_type": "stream",
     "text": [
      "    Transcription:  Can we do that next week? No, I didn't hear the vote.\n",
      "  Transcribing segment 56 (330.81s - 333.22s)...\n"
     ]
    },
    {
     "name": "stderr",
     "output_type": "stream",
     "text": [
      "/work/dpandya/miniconda3/envs/onlyWhisper/lib/python3.11/site-packages/transformers/models/whisper/generation_whisper.py:483: FutureWarning: The input name `inputs` is deprecated. Please make sure to use `input_features` instead.\n",
      "  warnings.warn(\n"
     ]
    },
    {
     "name": "stdout",
     "output_type": "stream",
     "text": [
      "    Transcription:  Do we want to put it for a vote next week?\n",
      "  Transcribing segment 57 (333.31s - 355.14s)...\n"
     ]
    },
    {
     "name": "stderr",
     "output_type": "stream",
     "text": [
      "/work/dpandya/miniconda3/envs/onlyWhisper/lib/python3.11/site-packages/transformers/models/whisper/generation_whisper.py:483: FutureWarning: The input name `inputs` is deprecated. Please make sure to use `input_features` instead.\n",
      "  warnings.warn(\n"
     ]
    },
    {
     "name": "stdout",
     "output_type": "stream",
     "text": [
      "    Transcription:  Yes, let's bring it to a vote next week. Next week, we'll bring it to a vote in our group. Next week, once we have a little bit more data. Okay, if you want to share with the person next to you at work. Yeah, absolutely. And then come back with more. No, no, I think we should keep it hush-hush for now. Like we said, we're not opening it for a vote. We're deciding on this. We'll come back with more input next week, and then we'll choose which direction we'll do.\n",
      "  Transcribing segment 58 (355.36s - 357.19s)...\n"
     ]
    },
    {
     "name": "stderr",
     "output_type": "stream",
     "text": [
      "/work/dpandya/miniconda3/envs/onlyWhisper/lib/python3.11/site-packages/transformers/models/whisper/generation_whisper.py:483: FutureWarning: The input name `inputs` is deprecated. Please make sure to use `input_features` instead.\n",
      "  warnings.warn(\n"
     ]
    },
    {
     "name": "stdout",
     "output_type": "stream",
     "text": [
      "    Transcription:  Yeah. Before that. Okay.\n",
      "\n",
      "--- All Transcriptions ---\n",
      "[6.33s - 7.78s]  Okay, so here.\n",
      "[8.00s - 11.01s]  We got a big budget in the\n",
      "[11.42s - 21.41s]  office regarding snacks. Oh, right. Yeah. About snacks or luncheon snacks? No, regarding snacks. Okay.\n",
      "[21.69s - 27.97s]  And I know all of us and other people in the office, I just called you guys, but there's also other people in the office that have different preferences\n",
      "[28.19s - 30.47s]  with foods that have food restrictions.\n",
      "[30.65s - 34.53s]  So even though we have a big budget, we want to make the most out of it.\n",
      "[34.59s - 36.00s]  Is there something that you guys would\n",
      "[36.03s - 40.13s]  prefer to have or not to have an office. Big budget means\n",
      "[40.32s - 46.08s]  on the quantity we can buy or the quality we can buy? Quality. Quality.\n",
      "[46.85s - 51.75s]  I'm nuts about nuts. So we're talking about quality. Pistachio.\n",
      "[51.87s - 57.60s]  Pistachios, pecans, and cashews. Macadamia. Macadamia. Brazil.\n",
      "[57.66s - 59.20s]  Brazil, no.\n",
      "[59.23s - 69.57s]  Yeah, but who eats it? Monkey nuts. I do. Healthy people. That's right. They're the best snack. They're not healthy. We want healthy bodies, healthy brains here. I don't care for healthy stuff.\n",
      "[70.01s - 73.25s]  You don't care about... No, like, I think it's kind of a waste of money.\n",
      "[73.41s - 75.23s]  All right, so what are you looking for?\n",
      "[75.26s - 79.39s]  I think we should have like ice cream. Ice cream is not the snack.\n",
      "[79.97s - 89.63s]  I think it's a snack. Chocolate bars. At least if we have a soft serve machine, we can have goat's milk.\n",
      "[90.59s - 93.67s]  Go on. A small con machine.\n",
      "[93.69s - 106.88s]  popcorn is nice yeah popcorn machine stinks out the office like you can't believe it stinks out the office yeah it smells so good would you want that it smells like popcorn is a very\n",
      "[107.04s - 109.25s]  We love our child boards and\n",
      "[109.37s - 113.86s]  No unhealthy snacks for what I'm supposed to eat. No, no, no. No natural popcorn without the butter.\n",
      "[114.11s - 116.83s]  That's not popcorn then.\n",
      "[117.66s - 133.35s]  Popcorn without butter. Are you talking about candy and things like that? Candy, Sour Patch. Does that mean that we have... Wait, wait, wait. Do we have to say... I mean, that's just like... Does that mean that we have... Perhaps everyone else. I know that we have the budget, but... But we can have self-control. I want my unhealthy snacks. Mm-hmm.\n",
      "[133.37s - 137.76s]  Does that mean also because we have to merge it that we have to remodel the kitchen?\n",
      "[138.24s - 156.29s]  to be able to get all of that. No, no, no. Well, we don't have enough. We need it all for snacks. People are hungry. I know, but we don't have enough in a food to store all of that. Do we need more storage? Do we need more cabinets? Do we need another? No, we've got the walk-in fridges already. That's our big product.\n",
      "[156.80s - 159.14s]  Maybe we can just bring in another walk-in fridge.\n",
      "[159.33s - 175.20s]  I suggest that we have a barista, let's say, in the morning hours. That's a nice thing. And then a barista turns into an ice cream soda maker, let's say, just after lunch so that people can have something sweet and they can carry them on for the day.\n",
      "[175.23s - 184.74s]  That's really healthy. That's really healthy. Yes, yes, yes. I'm thinking about your calorie requirements.\n",
      "[184.77s - 188.35s]  Yeah. And we have to think seriously about people's caffeine requirements.\n",
      "[188.45s - 190.37s]  That's the very first.\n",
      "[190.43s - 193.51s]  I think everyone drinks at least four cups a day.\n",
      "[193.60s - 194.82s]  And it was healthy.\n",
      "[194.88s - 200.10s]  It won't just be dreams. Are we taking care of their health or are we just taking care of what they want? Both.\n",
      "[200.29s - 200.83s]  Στος.\n",
      "[200.93s - 207.78s]  Because we know what sugar does to you. Well, I think that if we're going to have these baristas in this, then I want a real sushi barista.\n",
      "[207.93s - 214.21s]  station as well sushi is not the snack total snack and it's the healthiest food\n",
      "[214.30s - 224.00s]  in this world and it keeps me motivated. It's good having a sashimi buffet. Again, then we need to upgrade our kitchen.\n",
      "[224.22s - 229.92s]  Now it takes more budget off. I mean, we do have a pretty big budget that we can add another few\n",
      "[230.91s - 241.19s]  islands. It's also using the product, you know, we could have the robot make the sushi. For me, I can't compare it to\n",
      "[241.41s - 243.65s]  technology.\n",
      "[243.74s - 248.90s]  For me, snacks is something that can stay overnight without getting ruined.\n",
      "[249.05s - 252.64s]  I don't see sushi like an option because\n",
      "[252.73s - 255.01s]  It's a snack is a snack is a snack.\n",
      "[255.20s - 261.92s]  it has to be able to be well we can listen well then what about our dim sum robot\n",
      "[262.24s - 264.67s]  wagons coming around to our desks.\n",
      "[264.73s - 266.88s]  Yeah.\n",
      "[267.97s - 272.61s]  All right, so Rachel, you wanted to talk about more kitchen remodeling.\n",
      "[273.12s - 276.42s]  We need a quote for that. Let's do that.\n",
      "[276.48s - 280.58s]  At the next meeting, we'll have the list of the new snacks we're going to\n",
      "[280.64s - 282.75s]  bring in that need to be\n",
      "[282.81s - 283.49s]  you know,\n",
      "[283.52s - 291.11s]  maybe storage differently and then we'll fix it. So you sort that out by the 25th?\n",
      "[291.23s - 307.71s]  specialists in ice cream soda making that we can bring and how much it will cost to rent it. And then the dim sum wagon, I'll speak to our tech guy because we can put one of our products on the floor and we can do quality control like that as well. Great.\n",
      "[307.77s - 326.24s]  Are we going to bring this to a vote with all the employees or is this going to be decided just by us? I think if we bring it to a vote, it's going to be too controversial. Nobody will ever agree on anything. We're going to make the decision for the whole company. We'll make the decision and people leave the company because of it. Are we going to bring it to a vote in our group?\n",
      "[326.97s - 330.79s]  Can we do that next week? No, I didn't hear the vote.\n",
      "[330.81s - 333.22s]  Do we want to put it for a vote next week?\n",
      "[333.31s - 355.14s]  Yes, let's bring it to a vote next week. Next week, we'll bring it to a vote in our group. Next week, once we have a little bit more data. Okay, if you want to share with the person next to you at work. Yeah, absolutely. And then come back with more. No, no, I think we should keep it hush-hush for now. Like we said, we're not opening it for a vote. We're deciding on this. We'll come back with more input next week, and then we'll choose which direction we'll do.\n",
      "[355.36s - 357.19s]  Yeah. Before that. Okay.\n",
      "\n",
      "Full transcription saved to /ceph/dpandya/notsofar/newNotsofar/full_transcription.txt\n"
     ]
    }
   ],
   "source": [
    "import torch\n",
    "import torchaudio\n",
    "import numpy as np\n",
    "import soundfile as sf\n",
    "from pydub import AudioSegment\n",
    "from transformers import pipeline\n",
    "import os\n",
    "\n",
    "# --- Configuration ---\n",
    "#AUDIO_PATH = \"your_audio_file.wav\" # <--- IMPORTANT: Replace with your audio file path\n",
    "AUDIO_PATH = df.iloc[0]['audio_files'] # <--- IMPORTANT: Replace with your audio file path\n",
    "OUTPUT_DIR = \"/ceph/dpandya/notsofar/newNotsofar/\"\n",
    "MIN_SILENCE_DURATION_MS = 200 # Minimum silence duration to consider a break between segments\n",
    "SPEECH_PAD_MS = 100 # Add a small padding to speech segments (e.g., 100ms before and after)\n",
    "\n",
    "# --- 1. Load VAD Model ---\n",
    "print(\"1. Loading Silero VAD model...\")\n",
    "# Using a pre-trained Silero VAD model (e.g., 'silero_vad_large')\n",
    "# You can explore other models from the Silero VAD repo if needed\n",
    "# https://github.com/snakers4/silero-vad\n",
    "model, utils = torch.hub.load(repo_or_dir='snakers4/silero-vad',\n",
    "                              model='silero_vad',\n",
    "                              force_reload=False, # Set to True to always download the latest model\n",
    "                              trust_repo=True) # Trust the repository for loading\n",
    "\n",
    "(get_speech_timestamps, _, read_audio, _, _) = utils\n",
    "\n",
    "# --- 2. Load and Preprocess Audio ---\n",
    "print(f\"2. Loading audio from {AUDIO_PATH}...\")\n",
    "# Use pydub to handle various audio formats and ensure consistent sample rate\n",
    "try:\n",
    "    audio_segment = AudioSegment.from_file(AUDIO_PATH)\n",
    "    # Resample to 16kHz for VAD and Whisper, as they are typically trained on it\n",
    "    if audio_segment.frame_rate != 16000:\n",
    "        print(f\"Resampling audio from {audio_segment.frame_rate}Hz to 16000Hz...\")\n",
    "        audio_segment = audio_segment.set_frame_rate(16000)\n",
    "    \n",
    "    # Export to a temporary WAV file for torchaudio to load easily\n",
    "    temp_wav_path = \"temp_audio_16khz.wav\"\n",
    "    audio_segment.export(temp_wav_path, format=\"wav\")\n",
    "\n",
    "    # Load with torchaudio for VAD\n",
    "    # Ensure audio is mono\n",
    "    audio_data, sample_rate = torchaudio.load(temp_wav_path)\n",
    "    if audio_data.shape[0] > 1:\n",
    "        audio_data = torch.mean(audio_data, dim=0, keepdim=True) # Convert to mono\n",
    "    \n",
    "    # Remove the temporary file\n",
    "    os.remove(temp_wav_path)\n",
    "\n",
    "except Exception as e:\n",
    "    print(f\"Error loading audio: {e}\")\n",
    "    print(\"Please ensure the audio file exists and is a supported format (e.g., .wav, .mp3).\")\n",
    "    exit()\n",
    "\n",
    "# --- 3. Apply VAD to get speech timestamps ---\n",
    "print(\"3. Applying VAD to detect speech segments...\")\n",
    "# VAD operates on a single channel (mono) audio\n",
    "speech_timestamps = get_speech_timestamps(audio_data.squeeze(), model, sampling_rate=sample_rate)\n",
    "\n",
    "# --- 4. Refine VAD Segments (Merge close segments and add padding) ---\n",
    "print(\"4. Refining VAD segments...\")\n",
    "refined_segments = []\n",
    "if speech_timestamps:\n",
    "    current_start = speech_timestamps[0]['start']\n",
    "    current_end = speech_timestamps[0]['end']\n",
    "\n",
    "    for i in range(1, len(speech_timestamps)):\n",
    "        next_start = speech_timestamps[i]['start']\n",
    "        next_end = speech_timestamps[i]['end']\n",
    "\n",
    "        # Calculate silence duration in samples\n",
    "        silence_duration_samples = next_start - current_end\n",
    "        silence_duration_ms = (silence_duration_samples / sample_rate) * 1000\n",
    "\n",
    "        # If the silence between segments is less than MIN_SILENCE_DURATION_MS, merge them\n",
    "        if silence_duration_ms < MIN_SILENCE_DURATION_MS:\n",
    "            current_end = max(current_end, next_end) # Extend current segment\n",
    "        else:\n",
    "            # Add padding and append the completed segment\n",
    "            refined_segments.append({\n",
    "                'start': max(0, current_start - int(SPEECH_PAD_MS * sample_rate / 1000)),\n",
    "                'end': min(audio_data.shape[1], current_end + int(SPEECH_PAD_MS * sample_rate / 1000))\n",
    "            })\n",
    "            current_start = next_start\n",
    "            current_end = next_end\n",
    "    \n",
    "    # Add the last refined segment\n",
    "    refined_segments.append({\n",
    "        'start': max(0, current_start - int(SPEECH_PAD_MS * sample_rate / 1000)),\n",
    "        'end': min(audio_data.shape[1], current_end + int(SPEECH_PAD_MS * sample_rate / 1000))\n",
    "    })\n",
    "\n",
    "print(f\"Found {len(refined_segments)} refined speech segments.\")\n",
    "for i, seg in enumerate(refined_segments):\n",
    "    print(f\"  Segment {i+1}: Start={seg['start']/sample_rate:.2f}s, End={seg['end']/sample_rate:.2f}s\")\n",
    "\n",
    "\n",
    "# --- 5. Extract and Process Segments with Whisper ---\n",
    "print(\"5. Initializing Whisper large model...\")\n",
    "# Using 'openai/whisper-large-v3' for the largest and latest model\n",
    "# You might need to specify device=\"cuda\" if you have a GPU\n",
    "try:\n",
    "    pipe = pipeline(\"automatic-speech-recognition\", model=\"openai/whisper-large-v3\", device=0 if torch.cuda.is_available() else -1)\n",
    "except Exception as e:\n",
    "    print(f\"Error initializing Whisper model: {e}\")\n",
    "    print(\"Ensure you have a suitable backend (e.g., PyTorch) and sufficient memory.\")\n",
    "    print(\"If you have a GPU, ensure CUDA is properly installed.\")\n",
    "    exit()\n",
    "\n",
    "print(f\"6. Processing {len(refined_segments)} speech segments with Whisper...\")\n",
    "\n",
    "if not os.path.exists(OUTPUT_DIR):\n",
    "    os.makedirs(OUTPUT_DIR)\n",
    "\n",
    "all_transcriptions = []\n",
    "for i, segment in enumerate(refined_segments):\n",
    "    start_sample = segment['start']\n",
    "    end_sample = segment['end']\n",
    "    \n",
    "    segment_data = audio_data[:, start_sample:end_sample]\n",
    "\n",
    "    # Save temporary segment for Whisper pipeline\n",
    "    temp_segment_path = os.path.join(OUTPUT_DIR, f\"segment_{i:04d}.wav\")\n",
    "    sf.write(temp_segment_path, segment_data.squeeze().numpy(), sample_rate)\n",
    "\n",
    "    print(f\"  Transcribing segment {i+1} ({start_sample/sample_rate:.2f}s - {end_sample/sample_rate:.2f}s)...\")\n",
    "    try:\n",
    "        # Pass the file path to the pipeline for processing\n",
    "        result = pipe(temp_segment_path)\n",
    "        transcription = result[\"text\"]\n",
    "        all_transcriptions.append({\n",
    "            'segment_id': i + 1,\n",
    "            'start_time_s': start_sample / sample_rate,\n",
    "            'end_time_s': end_sample / sample_rate,\n",
    "            'text': transcription\n",
    "        })\n",
    "        print(f\"    Transcription: {transcription}\")\n",
    "    except Exception as e:\n",
    "        print(f\"    Error transcribing segment {i+1}: {e}\")\n",
    "        all_transcriptions.append({\n",
    "            'segment_id': i + 1,\n",
    "            'start_time_s': start_sample / sample_rate,\n",
    "            'end_time_s': end_sample / sample_rate,\n",
    "            'text': f\"Error: {e}\"\n",
    "        })\n",
    "    finally:\n",
    "        # Clean up temporary segment file\n",
    "        os.remove(temp_segment_path)\n",
    "\n",
    "print(\"\\n--- All Transcriptions ---\")\n",
    "for entry in all_transcriptions:\n",
    "    print(f\"[{entry['start_time_s']:.2f}s - {entry['end_time_s']:.2f}s] {entry['text']}\")\n",
    "\n",
    "# Optionally, save all transcriptions to a file\n",
    "with open(os.path.join(OUTPUT_DIR, \"full_transcription.txt\"), \"w\", encoding=\"utf-8\") as f:\n",
    "    for entry in all_transcriptions:\n",
    "        f.write(f\"[{entry['start_time_s']:.2f}s - {entry['end_time_s']:.2f}s] {entry['text']}\\n\")\n",
    "print(f\"\\nFull transcription saved to {os.path.join(OUTPUT_DIR, 'full_transcription.txt')}\")"
   ]
  },
  {
   "cell_type": "code",
   "execution_count": 13,
   "id": "5c772054",
   "metadata": {},
   "outputs": [
    {
     "data": {
      "text/plain": [
       "'we got a we got a big budget in the office uh regarding snacks uh yeah'"
      ]
     },
     "execution_count": 13,
     "metadata": {},
     "output_type": "execute_result"
    }
   ],
   "source": [
    "import re\n",
    "\n",
    "def clean_text(s):\n",
    "    # Convert to string to handle potential non-string inputs gracefully\n",
    "    s = str(s)\n",
    "    \n",
    "    # 1. Remove text enclosed in angle brackets (e.g., <ST>, <UNKNOWN>)\n",
    "    s = re.sub(r'<[^>]+>', '', s)\n",
    "    \n",
    "    # 2. Remove punctuation\n",
    "    # This regex matches any character that is NOT a word character (alphanumeric + underscore) or whitespace\n",
    "    s = re.sub(r'[^\\w\\s]', '', s)\n",
    "    \n",
    "    # 3. Remove extra spaces (replace multiple spaces with a single space)\n",
    "    s = re.sub(r'\\s+', ' ', s)\n",
    "    \n",
    "    # 4. Remove leading and trailing spaces\n",
    "    s = s.strip()\n",
    "    \n",
    "    # 5. Convert to lowercase for case-insensitive comparison\n",
    "    return s.lower()\n",
    "\n",
    "\n",
    "clean_text(pd.read_json(df.iloc[0]['transcription_files']).iloc[1]['text'])"
   ]
  },
  {
   "cell_type": "code",
   "execution_count": 18,
   "id": "96567220",
   "metadata": {},
   "outputs": [
    {
     "name": "stdout",
     "output_type": "stream",
     "text": [
      "1. Initializing Whisper large model...\n",
      "2. Loading audio from /ceph/dpandya/notsofar/eval_set/240825.1_eval_full_with_GT/MTG/MTG_32052/sc_plaza_0/ch0.wav...\n",
      "3. Loading label data from /ceph/dpandya/notsofar/eval_set/240825.1_eval_full_with_GT/MTG/MTG_32052/gt_transcription.json...\n",
      "Loaded 284 ground truth segments.\n",
      "4. Transcribing labeled segments with Whisper and collecting results...\n"
     ]
    },
    {
     "name": "stderr",
     "output_type": "stream",
     "text": [
      "/work/dpandya/miniconda3/envs/onlyWhisper/lib/python3.11/site-packages/transformers/models/whisper/generation_whisper.py:483: FutureWarning: The input name `inputs` is deprecated. Please make sure to use `input_features` instead.\n",
      "  warnings.warn(\n",
      "/work/dpandya/miniconda3/envs/onlyWhisper/lib/python3.11/site-packages/transformers/models/whisper/generation_whisper.py:483: FutureWarning: The input name `inputs` is deprecated. Please make sure to use `input_features` instead.\n",
      "  warnings.warn(\n",
      "/work/dpandya/miniconda3/envs/onlyWhisper/lib/python3.11/site-packages/transformers/models/whisper/generation_whisper.py:483: FutureWarning: The input name `inputs` is deprecated. Please make sure to use `input_features` instead.\n",
      "  warnings.warn(\n",
      "/work/dpandya/miniconda3/envs/onlyWhisper/lib/python3.11/site-packages/transformers/models/whisper/generation_whisper.py:483: FutureWarning: The input name `inputs` is deprecated. Please make sure to use `input_features` instead.\n",
      "  warnings.warn(\n",
      "/work/dpandya/miniconda3/envs/onlyWhisper/lib/python3.11/site-packages/transformers/models/whisper/generation_whisper.py:483: FutureWarning: The input name `inputs` is deprecated. Please make sure to use `input_features` instead.\n",
      "  warnings.warn(\n",
      "/work/dpandya/miniconda3/envs/onlyWhisper/lib/python3.11/site-packages/transformers/models/whisper/generation_whisper.py:483: FutureWarning: The input name `inputs` is deprecated. Please make sure to use `input_features` instead.\n",
      "  warnings.warn(\n",
      "/work/dpandya/miniconda3/envs/onlyWhisper/lib/python3.11/site-packages/transformers/models/whisper/generation_whisper.py:483: FutureWarning: The input name `inputs` is deprecated. Please make sure to use `input_features` instead.\n",
      "  warnings.warn(\n",
      "/work/dpandya/miniconda3/envs/onlyWhisper/lib/python3.11/site-packages/transformers/models/whisper/generation_whisper.py:483: FutureWarning: The input name `inputs` is deprecated. Please make sure to use `input_features` instead.\n",
      "  warnings.warn(\n",
      "/work/dpandya/miniconda3/envs/onlyWhisper/lib/python3.11/site-packages/transformers/models/whisper/generation_whisper.py:483: FutureWarning: The input name `inputs` is deprecated. Please make sure to use `input_features` instead.\n",
      "  warnings.warn(\n",
      "/work/dpandya/miniconda3/envs/onlyWhisper/lib/python3.11/site-packages/transformers/models/whisper/generation_whisper.py:483: FutureWarning: The input name `inputs` is deprecated. Please make sure to use `input_features` instead.\n",
      "  warnings.warn(\n",
      "/work/dpandya/miniconda3/envs/onlyWhisper/lib/python3.11/site-packages/transformers/models/whisper/generation_whisper.py:483: FutureWarning: The input name `inputs` is deprecated. Please make sure to use `input_features` instead.\n",
      "  warnings.warn(\n",
      "/work/dpandya/miniconda3/envs/onlyWhisper/lib/python3.11/site-packages/transformers/models/whisper/generation_whisper.py:483: FutureWarning: The input name `inputs` is deprecated. Please make sure to use `input_features` instead.\n",
      "  warnings.warn(\n",
      "/work/dpandya/miniconda3/envs/onlyWhisper/lib/python3.11/site-packages/transformers/models/whisper/generation_whisper.py:483: FutureWarning: The input name `inputs` is deprecated. Please make sure to use `input_features` instead.\n",
      "  warnings.warn(\n",
      "/work/dpandya/miniconda3/envs/onlyWhisper/lib/python3.11/site-packages/transformers/models/whisper/generation_whisper.py:483: FutureWarning: The input name `inputs` is deprecated. Please make sure to use `input_features` instead.\n",
      "  warnings.warn(\n",
      "/work/dpandya/miniconda3/envs/onlyWhisper/lib/python3.11/site-packages/transformers/models/whisper/generation_whisper.py:483: FutureWarning: The input name `inputs` is deprecated. Please make sure to use `input_features` instead.\n",
      "  warnings.warn(\n",
      "/work/dpandya/miniconda3/envs/onlyWhisper/lib/python3.11/site-packages/transformers/models/whisper/generation_whisper.py:483: FutureWarning: The input name `inputs` is deprecated. Please make sure to use `input_features` instead.\n",
      "  warnings.warn(\n",
      "/work/dpandya/miniconda3/envs/onlyWhisper/lib/python3.11/site-packages/transformers/models/whisper/generation_whisper.py:483: FutureWarning: The input name `inputs` is deprecated. Please make sure to use `input_features` instead.\n",
      "  warnings.warn(\n",
      "/work/dpandya/miniconda3/envs/onlyWhisper/lib/python3.11/site-packages/transformers/models/whisper/generation_whisper.py:483: FutureWarning: The input name `inputs` is deprecated. Please make sure to use `input_features` instead.\n",
      "  warnings.warn(\n",
      "/work/dpandya/miniconda3/envs/onlyWhisper/lib/python3.11/site-packages/transformers/models/whisper/generation_whisper.py:483: FutureWarning: The input name `inputs` is deprecated. Please make sure to use `input_features` instead.\n",
      "  warnings.warn(\n",
      "/work/dpandya/miniconda3/envs/onlyWhisper/lib/python3.11/site-packages/transformers/models/whisper/generation_whisper.py:483: FutureWarning: The input name `inputs` is deprecated. Please make sure to use `input_features` instead.\n",
      "  warnings.warn(\n",
      "/work/dpandya/miniconda3/envs/onlyWhisper/lib/python3.11/site-packages/transformers/models/whisper/generation_whisper.py:483: FutureWarning: The input name `inputs` is deprecated. Please make sure to use `input_features` instead.\n",
      "  warnings.warn(\n",
      "/work/dpandya/miniconda3/envs/onlyWhisper/lib/python3.11/site-packages/transformers/models/whisper/generation_whisper.py:483: FutureWarning: The input name `inputs` is deprecated. Please make sure to use `input_features` instead.\n",
      "  warnings.warn(\n",
      "/work/dpandya/miniconda3/envs/onlyWhisper/lib/python3.11/site-packages/transformers/models/whisper/generation_whisper.py:483: FutureWarning: The input name `inputs` is deprecated. Please make sure to use `input_features` instead.\n",
      "  warnings.warn(\n",
      "/work/dpandya/miniconda3/envs/onlyWhisper/lib/python3.11/site-packages/transformers/models/whisper/generation_whisper.py:483: FutureWarning: The input name `inputs` is deprecated. Please make sure to use `input_features` instead.\n",
      "  warnings.warn(\n",
      "/work/dpandya/miniconda3/envs/onlyWhisper/lib/python3.11/site-packages/transformers/models/whisper/generation_whisper.py:483: FutureWarning: The input name `inputs` is deprecated. Please make sure to use `input_features` instead.\n",
      "  warnings.warn(\n",
      "/work/dpandya/miniconda3/envs/onlyWhisper/lib/python3.11/site-packages/transformers/models/whisper/generation_whisper.py:483: FutureWarning: The input name `inputs` is deprecated. Please make sure to use `input_features` instead.\n",
      "  warnings.warn(\n",
      "/work/dpandya/miniconda3/envs/onlyWhisper/lib/python3.11/site-packages/transformers/models/whisper/generation_whisper.py:483: FutureWarning: The input name `inputs` is deprecated. Please make sure to use `input_features` instead.\n",
      "  warnings.warn(\n",
      "/work/dpandya/miniconda3/envs/onlyWhisper/lib/python3.11/site-packages/transformers/models/whisper/generation_whisper.py:483: FutureWarning: The input name `inputs` is deprecated. Please make sure to use `input_features` instead.\n",
      "  warnings.warn(\n",
      "/work/dpandya/miniconda3/envs/onlyWhisper/lib/python3.11/site-packages/transformers/models/whisper/generation_whisper.py:483: FutureWarning: The input name `inputs` is deprecated. Please make sure to use `input_features` instead.\n",
      "  warnings.warn(\n",
      "/work/dpandya/miniconda3/envs/onlyWhisper/lib/python3.11/site-packages/transformers/models/whisper/generation_whisper.py:483: FutureWarning: The input name `inputs` is deprecated. Please make sure to use `input_features` instead.\n",
      "  warnings.warn(\n",
      "/work/dpandya/miniconda3/envs/onlyWhisper/lib/python3.11/site-packages/transformers/models/whisper/generation_whisper.py:483: FutureWarning: The input name `inputs` is deprecated. Please make sure to use `input_features` instead.\n",
      "  warnings.warn(\n",
      "/work/dpandya/miniconda3/envs/onlyWhisper/lib/python3.11/site-packages/transformers/models/whisper/generation_whisper.py:483: FutureWarning: The input name `inputs` is deprecated. Please make sure to use `input_features` instead.\n",
      "  warnings.warn(\n",
      "/work/dpandya/miniconda3/envs/onlyWhisper/lib/python3.11/site-packages/transformers/models/whisper/generation_whisper.py:483: FutureWarning: The input name `inputs` is deprecated. Please make sure to use `input_features` instead.\n",
      "  warnings.warn(\n",
      "/work/dpandya/miniconda3/envs/onlyWhisper/lib/python3.11/site-packages/transformers/models/whisper/generation_whisper.py:483: FutureWarning: The input name `inputs` is deprecated. Please make sure to use `input_features` instead.\n",
      "  warnings.warn(\n",
      "/work/dpandya/miniconda3/envs/onlyWhisper/lib/python3.11/site-packages/transformers/models/whisper/generation_whisper.py:483: FutureWarning: The input name `inputs` is deprecated. Please make sure to use `input_features` instead.\n",
      "  warnings.warn(\n",
      "/work/dpandya/miniconda3/envs/onlyWhisper/lib/python3.11/site-packages/transformers/models/whisper/generation_whisper.py:483: FutureWarning: The input name `inputs` is deprecated. Please make sure to use `input_features` instead.\n",
      "  warnings.warn(\n",
      "/work/dpandya/miniconda3/envs/onlyWhisper/lib/python3.11/site-packages/transformers/models/whisper/generation_whisper.py:483: FutureWarning: The input name `inputs` is deprecated. Please make sure to use `input_features` instead.\n",
      "  warnings.warn(\n",
      "/work/dpandya/miniconda3/envs/onlyWhisper/lib/python3.11/site-packages/transformers/models/whisper/generation_whisper.py:483: FutureWarning: The input name `inputs` is deprecated. Please make sure to use `input_features` instead.\n",
      "  warnings.warn(\n",
      "/work/dpandya/miniconda3/envs/onlyWhisper/lib/python3.11/site-packages/transformers/models/whisper/generation_whisper.py:483: FutureWarning: The input name `inputs` is deprecated. Please make sure to use `input_features` instead.\n",
      "  warnings.warn(\n",
      "/work/dpandya/miniconda3/envs/onlyWhisper/lib/python3.11/site-packages/transformers/models/whisper/generation_whisper.py:483: FutureWarning: The input name `inputs` is deprecated. Please make sure to use `input_features` instead.\n",
      "  warnings.warn(\n",
      "/work/dpandya/miniconda3/envs/onlyWhisper/lib/python3.11/site-packages/transformers/models/whisper/generation_whisper.py:483: FutureWarning: The input name `inputs` is deprecated. Please make sure to use `input_features` instead.\n",
      "  warnings.warn(\n",
      "/work/dpandya/miniconda3/envs/onlyWhisper/lib/python3.11/site-packages/transformers/models/whisper/generation_whisper.py:483: FutureWarning: The input name `inputs` is deprecated. Please make sure to use `input_features` instead.\n",
      "  warnings.warn(\n",
      "/work/dpandya/miniconda3/envs/onlyWhisper/lib/python3.11/site-packages/transformers/models/whisper/generation_whisper.py:483: FutureWarning: The input name `inputs` is deprecated. Please make sure to use `input_features` instead.\n",
      "  warnings.warn(\n",
      "/work/dpandya/miniconda3/envs/onlyWhisper/lib/python3.11/site-packages/transformers/models/whisper/generation_whisper.py:483: FutureWarning: The input name `inputs` is deprecated. Please make sure to use `input_features` instead.\n",
      "  warnings.warn(\n",
      "/work/dpandya/miniconda3/envs/onlyWhisper/lib/python3.11/site-packages/transformers/models/whisper/generation_whisper.py:483: FutureWarning: The input name `inputs` is deprecated. Please make sure to use `input_features` instead.\n",
      "  warnings.warn(\n",
      "/work/dpandya/miniconda3/envs/onlyWhisper/lib/python3.11/site-packages/transformers/models/whisper/generation_whisper.py:483: FutureWarning: The input name `inputs` is deprecated. Please make sure to use `input_features` instead.\n",
      "  warnings.warn(\n",
      "/work/dpandya/miniconda3/envs/onlyWhisper/lib/python3.11/site-packages/transformers/models/whisper/generation_whisper.py:483: FutureWarning: The input name `inputs` is deprecated. Please make sure to use `input_features` instead.\n",
      "  warnings.warn(\n",
      "/work/dpandya/miniconda3/envs/onlyWhisper/lib/python3.11/site-packages/transformers/models/whisper/generation_whisper.py:483: FutureWarning: The input name `inputs` is deprecated. Please make sure to use `input_features` instead.\n",
      "  warnings.warn(\n",
      "/work/dpandya/miniconda3/envs/onlyWhisper/lib/python3.11/site-packages/transformers/models/whisper/generation_whisper.py:483: FutureWarning: The input name `inputs` is deprecated. Please make sure to use `input_features` instead.\n",
      "  warnings.warn(\n",
      "/work/dpandya/miniconda3/envs/onlyWhisper/lib/python3.11/site-packages/transformers/models/whisper/generation_whisper.py:483: FutureWarning: The input name `inputs` is deprecated. Please make sure to use `input_features` instead.\n",
      "  warnings.warn(\n",
      "/work/dpandya/miniconda3/envs/onlyWhisper/lib/python3.11/site-packages/transformers/models/whisper/generation_whisper.py:483: FutureWarning: The input name `inputs` is deprecated. Please make sure to use `input_features` instead.\n",
      "  warnings.warn(\n",
      "/work/dpandya/miniconda3/envs/onlyWhisper/lib/python3.11/site-packages/transformers/models/whisper/generation_whisper.py:483: FutureWarning: The input name `inputs` is deprecated. Please make sure to use `input_features` instead.\n",
      "  warnings.warn(\n",
      "/work/dpandya/miniconda3/envs/onlyWhisper/lib/python3.11/site-packages/transformers/models/whisper/generation_whisper.py:483: FutureWarning: The input name `inputs` is deprecated. Please make sure to use `input_features` instead.\n",
      "  warnings.warn(\n",
      "/work/dpandya/miniconda3/envs/onlyWhisper/lib/python3.11/site-packages/transformers/models/whisper/generation_whisper.py:483: FutureWarning: The input name `inputs` is deprecated. Please make sure to use `input_features` instead.\n",
      "  warnings.warn(\n",
      "/work/dpandya/miniconda3/envs/onlyWhisper/lib/python3.11/site-packages/transformers/models/whisper/generation_whisper.py:483: FutureWarning: The input name `inputs` is deprecated. Please make sure to use `input_features` instead.\n",
      "  warnings.warn(\n",
      "/work/dpandya/miniconda3/envs/onlyWhisper/lib/python3.11/site-packages/transformers/models/whisper/generation_whisper.py:483: FutureWarning: The input name `inputs` is deprecated. Please make sure to use `input_features` instead.\n",
      "  warnings.warn(\n",
      "/work/dpandya/miniconda3/envs/onlyWhisper/lib/python3.11/site-packages/transformers/models/whisper/generation_whisper.py:483: FutureWarning: The input name `inputs` is deprecated. Please make sure to use `input_features` instead.\n",
      "  warnings.warn(\n",
      "/work/dpandya/miniconda3/envs/onlyWhisper/lib/python3.11/site-packages/transformers/models/whisper/generation_whisper.py:483: FutureWarning: The input name `inputs` is deprecated. Please make sure to use `input_features` instead.\n",
      "  warnings.warn(\n",
      "/work/dpandya/miniconda3/envs/onlyWhisper/lib/python3.11/site-packages/transformers/models/whisper/generation_whisper.py:483: FutureWarning: The input name `inputs` is deprecated. Please make sure to use `input_features` instead.\n",
      "  warnings.warn(\n",
      "/work/dpandya/miniconda3/envs/onlyWhisper/lib/python3.11/site-packages/transformers/models/whisper/generation_whisper.py:483: FutureWarning: The input name `inputs` is deprecated. Please make sure to use `input_features` instead.\n",
      "  warnings.warn(\n",
      "/work/dpandya/miniconda3/envs/onlyWhisper/lib/python3.11/site-packages/transformers/models/whisper/generation_whisper.py:483: FutureWarning: The input name `inputs` is deprecated. Please make sure to use `input_features` instead.\n",
      "  warnings.warn(\n",
      "/work/dpandya/miniconda3/envs/onlyWhisper/lib/python3.11/site-packages/transformers/models/whisper/generation_whisper.py:483: FutureWarning: The input name `inputs` is deprecated. Please make sure to use `input_features` instead.\n",
      "  warnings.warn(\n",
      "/work/dpandya/miniconda3/envs/onlyWhisper/lib/python3.11/site-packages/transformers/models/whisper/generation_whisper.py:483: FutureWarning: The input name `inputs` is deprecated. Please make sure to use `input_features` instead.\n",
      "  warnings.warn(\n",
      "/work/dpandya/miniconda3/envs/onlyWhisper/lib/python3.11/site-packages/transformers/models/whisper/generation_whisper.py:483: FutureWarning: The input name `inputs` is deprecated. Please make sure to use `input_features` instead.\n",
      "  warnings.warn(\n",
      "/work/dpandya/miniconda3/envs/onlyWhisper/lib/python3.11/site-packages/transformers/models/whisper/generation_whisper.py:483: FutureWarning: The input name `inputs` is deprecated. Please make sure to use `input_features` instead.\n",
      "  warnings.warn(\n",
      "/work/dpandya/miniconda3/envs/onlyWhisper/lib/python3.11/site-packages/transformers/models/whisper/generation_whisper.py:483: FutureWarning: The input name `inputs` is deprecated. Please make sure to use `input_features` instead.\n",
      "  warnings.warn(\n",
      "/work/dpandya/miniconda3/envs/onlyWhisper/lib/python3.11/site-packages/transformers/models/whisper/generation_whisper.py:483: FutureWarning: The input name `inputs` is deprecated. Please make sure to use `input_features` instead.\n",
      "  warnings.warn(\n",
      "/work/dpandya/miniconda3/envs/onlyWhisper/lib/python3.11/site-packages/transformers/models/whisper/generation_whisper.py:483: FutureWarning: The input name `inputs` is deprecated. Please make sure to use `input_features` instead.\n",
      "  warnings.warn(\n",
      "/work/dpandya/miniconda3/envs/onlyWhisper/lib/python3.11/site-packages/transformers/models/whisper/generation_whisper.py:483: FutureWarning: The input name `inputs` is deprecated. Please make sure to use `input_features` instead.\n",
      "  warnings.warn(\n",
      "/work/dpandya/miniconda3/envs/onlyWhisper/lib/python3.11/site-packages/transformers/models/whisper/generation_whisper.py:483: FutureWarning: The input name `inputs` is deprecated. Please make sure to use `input_features` instead.\n",
      "  warnings.warn(\n",
      "/work/dpandya/miniconda3/envs/onlyWhisper/lib/python3.11/site-packages/transformers/models/whisper/generation_whisper.py:483: FutureWarning: The input name `inputs` is deprecated. Please make sure to use `input_features` instead.\n",
      "  warnings.warn(\n",
      "/work/dpandya/miniconda3/envs/onlyWhisper/lib/python3.11/site-packages/transformers/models/whisper/generation_whisper.py:483: FutureWarning: The input name `inputs` is deprecated. Please make sure to use `input_features` instead.\n",
      "  warnings.warn(\n",
      "/work/dpandya/miniconda3/envs/onlyWhisper/lib/python3.11/site-packages/transformers/models/whisper/generation_whisper.py:483: FutureWarning: The input name `inputs` is deprecated. Please make sure to use `input_features` instead.\n",
      "  warnings.warn(\n",
      "/work/dpandya/miniconda3/envs/onlyWhisper/lib/python3.11/site-packages/transformers/models/whisper/generation_whisper.py:483: FutureWarning: The input name `inputs` is deprecated. Please make sure to use `input_features` instead.\n",
      "  warnings.warn(\n",
      "/work/dpandya/miniconda3/envs/onlyWhisper/lib/python3.11/site-packages/transformers/models/whisper/generation_whisper.py:483: FutureWarning: The input name `inputs` is deprecated. Please make sure to use `input_features` instead.\n",
      "  warnings.warn(\n",
      "/work/dpandya/miniconda3/envs/onlyWhisper/lib/python3.11/site-packages/transformers/models/whisper/generation_whisper.py:483: FutureWarning: The input name `inputs` is deprecated. Please make sure to use `input_features` instead.\n",
      "  warnings.warn(\n",
      "/work/dpandya/miniconda3/envs/onlyWhisper/lib/python3.11/site-packages/transformers/models/whisper/generation_whisper.py:483: FutureWarning: The input name `inputs` is deprecated. Please make sure to use `input_features` instead.\n",
      "  warnings.warn(\n",
      "/work/dpandya/miniconda3/envs/onlyWhisper/lib/python3.11/site-packages/transformers/models/whisper/generation_whisper.py:483: FutureWarning: The input name `inputs` is deprecated. Please make sure to use `input_features` instead.\n",
      "  warnings.warn(\n",
      "/work/dpandya/miniconda3/envs/onlyWhisper/lib/python3.11/site-packages/transformers/models/whisper/generation_whisper.py:483: FutureWarning: The input name `inputs` is deprecated. Please make sure to use `input_features` instead.\n",
      "  warnings.warn(\n",
      "/work/dpandya/miniconda3/envs/onlyWhisper/lib/python3.11/site-packages/transformers/models/whisper/generation_whisper.py:483: FutureWarning: The input name `inputs` is deprecated. Please make sure to use `input_features` instead.\n",
      "  warnings.warn(\n",
      "/work/dpandya/miniconda3/envs/onlyWhisper/lib/python3.11/site-packages/transformers/models/whisper/generation_whisper.py:483: FutureWarning: The input name `inputs` is deprecated. Please make sure to use `input_features` instead.\n",
      "  warnings.warn(\n",
      "/work/dpandya/miniconda3/envs/onlyWhisper/lib/python3.11/site-packages/transformers/models/whisper/generation_whisper.py:483: FutureWarning: The input name `inputs` is deprecated. Please make sure to use `input_features` instead.\n",
      "  warnings.warn(\n",
      "/work/dpandya/miniconda3/envs/onlyWhisper/lib/python3.11/site-packages/transformers/models/whisper/generation_whisper.py:483: FutureWarning: The input name `inputs` is deprecated. Please make sure to use `input_features` instead.\n",
      "  warnings.warn(\n",
      "/work/dpandya/miniconda3/envs/onlyWhisper/lib/python3.11/site-packages/transformers/models/whisper/generation_whisper.py:483: FutureWarning: The input name `inputs` is deprecated. Please make sure to use `input_features` instead.\n",
      "  warnings.warn(\n",
      "/work/dpandya/miniconda3/envs/onlyWhisper/lib/python3.11/site-packages/transformers/models/whisper/generation_whisper.py:483: FutureWarning: The input name `inputs` is deprecated. Please make sure to use `input_features` instead.\n",
      "  warnings.warn(\n",
      "/work/dpandya/miniconda3/envs/onlyWhisper/lib/python3.11/site-packages/transformers/models/whisper/generation_whisper.py:483: FutureWarning: The input name `inputs` is deprecated. Please make sure to use `input_features` instead.\n",
      "  warnings.warn(\n",
      "/work/dpandya/miniconda3/envs/onlyWhisper/lib/python3.11/site-packages/transformers/models/whisper/generation_whisper.py:483: FutureWarning: The input name `inputs` is deprecated. Please make sure to use `input_features` instead.\n",
      "  warnings.warn(\n",
      "/work/dpandya/miniconda3/envs/onlyWhisper/lib/python3.11/site-packages/transformers/models/whisper/generation_whisper.py:483: FutureWarning: The input name `inputs` is deprecated. Please make sure to use `input_features` instead.\n",
      "  warnings.warn(\n",
      "/work/dpandya/miniconda3/envs/onlyWhisper/lib/python3.11/site-packages/transformers/models/whisper/generation_whisper.py:483: FutureWarning: The input name `inputs` is deprecated. Please make sure to use `input_features` instead.\n",
      "  warnings.warn(\n",
      "/work/dpandya/miniconda3/envs/onlyWhisper/lib/python3.11/site-packages/transformers/models/whisper/generation_whisper.py:483: FutureWarning: The input name `inputs` is deprecated. Please make sure to use `input_features` instead.\n",
      "  warnings.warn(\n",
      "/work/dpandya/miniconda3/envs/onlyWhisper/lib/python3.11/site-packages/transformers/models/whisper/generation_whisper.py:483: FutureWarning: The input name `inputs` is deprecated. Please make sure to use `input_features` instead.\n",
      "  warnings.warn(\n",
      "/work/dpandya/miniconda3/envs/onlyWhisper/lib/python3.11/site-packages/transformers/models/whisper/generation_whisper.py:483: FutureWarning: The input name `inputs` is deprecated. Please make sure to use `input_features` instead.\n",
      "  warnings.warn(\n",
      "/work/dpandya/miniconda3/envs/onlyWhisper/lib/python3.11/site-packages/transformers/models/whisper/generation_whisper.py:483: FutureWarning: The input name `inputs` is deprecated. Please make sure to use `input_features` instead.\n",
      "  warnings.warn(\n",
      "/work/dpandya/miniconda3/envs/onlyWhisper/lib/python3.11/site-packages/transformers/models/whisper/generation_whisper.py:483: FutureWarning: The input name `inputs` is deprecated. Please make sure to use `input_features` instead.\n",
      "  warnings.warn(\n",
      "/work/dpandya/miniconda3/envs/onlyWhisper/lib/python3.11/site-packages/transformers/models/whisper/generation_whisper.py:483: FutureWarning: The input name `inputs` is deprecated. Please make sure to use `input_features` instead.\n",
      "  warnings.warn(\n",
      "/work/dpandya/miniconda3/envs/onlyWhisper/lib/python3.11/site-packages/transformers/models/whisper/generation_whisper.py:483: FutureWarning: The input name `inputs` is deprecated. Please make sure to use `input_features` instead.\n",
      "  warnings.warn(\n",
      "/work/dpandya/miniconda3/envs/onlyWhisper/lib/python3.11/site-packages/transformers/models/whisper/generation_whisper.py:483: FutureWarning: The input name `inputs` is deprecated. Please make sure to use `input_features` instead.\n",
      "  warnings.warn(\n",
      "/work/dpandya/miniconda3/envs/onlyWhisper/lib/python3.11/site-packages/transformers/models/whisper/generation_whisper.py:483: FutureWarning: The input name `inputs` is deprecated. Please make sure to use `input_features` instead.\n",
      "  warnings.warn(\n",
      "/work/dpandya/miniconda3/envs/onlyWhisper/lib/python3.11/site-packages/transformers/models/whisper/generation_whisper.py:483: FutureWarning: The input name `inputs` is deprecated. Please make sure to use `input_features` instead.\n",
      "  warnings.warn(\n",
      "/work/dpandya/miniconda3/envs/onlyWhisper/lib/python3.11/site-packages/transformers/models/whisper/generation_whisper.py:483: FutureWarning: The input name `inputs` is deprecated. Please make sure to use `input_features` instead.\n",
      "  warnings.warn(\n",
      "/work/dpandya/miniconda3/envs/onlyWhisper/lib/python3.11/site-packages/transformers/models/whisper/generation_whisper.py:483: FutureWarning: The input name `inputs` is deprecated. Please make sure to use `input_features` instead.\n",
      "  warnings.warn(\n",
      "/work/dpandya/miniconda3/envs/onlyWhisper/lib/python3.11/site-packages/transformers/models/whisper/generation_whisper.py:483: FutureWarning: The input name `inputs` is deprecated. Please make sure to use `input_features` instead.\n",
      "  warnings.warn(\n",
      "/work/dpandya/miniconda3/envs/onlyWhisper/lib/python3.11/site-packages/transformers/models/whisper/generation_whisper.py:483: FutureWarning: The input name `inputs` is deprecated. Please make sure to use `input_features` instead.\n",
      "  warnings.warn(\n",
      "/work/dpandya/miniconda3/envs/onlyWhisper/lib/python3.11/site-packages/transformers/models/whisper/generation_whisper.py:483: FutureWarning: The input name `inputs` is deprecated. Please make sure to use `input_features` instead.\n",
      "  warnings.warn(\n",
      "/work/dpandya/miniconda3/envs/onlyWhisper/lib/python3.11/site-packages/transformers/models/whisper/generation_whisper.py:483: FutureWarning: The input name `inputs` is deprecated. Please make sure to use `input_features` instead.\n",
      "  warnings.warn(\n",
      "/work/dpandya/miniconda3/envs/onlyWhisper/lib/python3.11/site-packages/transformers/models/whisper/generation_whisper.py:483: FutureWarning: The input name `inputs` is deprecated. Please make sure to use `input_features` instead.\n",
      "  warnings.warn(\n",
      "/work/dpandya/miniconda3/envs/onlyWhisper/lib/python3.11/site-packages/transformers/models/whisper/generation_whisper.py:483: FutureWarning: The input name `inputs` is deprecated. Please make sure to use `input_features` instead.\n",
      "  warnings.warn(\n",
      "/work/dpandya/miniconda3/envs/onlyWhisper/lib/python3.11/site-packages/transformers/models/whisper/generation_whisper.py:483: FutureWarning: The input name `inputs` is deprecated. Please make sure to use `input_features` instead.\n",
      "  warnings.warn(\n",
      "/work/dpandya/miniconda3/envs/onlyWhisper/lib/python3.11/site-packages/transformers/models/whisper/generation_whisper.py:483: FutureWarning: The input name `inputs` is deprecated. Please make sure to use `input_features` instead.\n",
      "  warnings.warn(\n",
      "/work/dpandya/miniconda3/envs/onlyWhisper/lib/python3.11/site-packages/transformers/models/whisper/generation_whisper.py:483: FutureWarning: The input name `inputs` is deprecated. Please make sure to use `input_features` instead.\n",
      "  warnings.warn(\n",
      "/work/dpandya/miniconda3/envs/onlyWhisper/lib/python3.11/site-packages/transformers/models/whisper/generation_whisper.py:483: FutureWarning: The input name `inputs` is deprecated. Please make sure to use `input_features` instead.\n",
      "  warnings.warn(\n",
      "/work/dpandya/miniconda3/envs/onlyWhisper/lib/python3.11/site-packages/transformers/models/whisper/generation_whisper.py:483: FutureWarning: The input name `inputs` is deprecated. Please make sure to use `input_features` instead.\n",
      "  warnings.warn(\n",
      "/work/dpandya/miniconda3/envs/onlyWhisper/lib/python3.11/site-packages/transformers/models/whisper/generation_whisper.py:483: FutureWarning: The input name `inputs` is deprecated. Please make sure to use `input_features` instead.\n",
      "  warnings.warn(\n",
      "/work/dpandya/miniconda3/envs/onlyWhisper/lib/python3.11/site-packages/transformers/models/whisper/generation_whisper.py:483: FutureWarning: The input name `inputs` is deprecated. Please make sure to use `input_features` instead.\n",
      "  warnings.warn(\n",
      "/work/dpandya/miniconda3/envs/onlyWhisper/lib/python3.11/site-packages/transformers/models/whisper/generation_whisper.py:483: FutureWarning: The input name `inputs` is deprecated. Please make sure to use `input_features` instead.\n",
      "  warnings.warn(\n",
      "/work/dpandya/miniconda3/envs/onlyWhisper/lib/python3.11/site-packages/transformers/models/whisper/generation_whisper.py:483: FutureWarning: The input name `inputs` is deprecated. Please make sure to use `input_features` instead.\n",
      "  warnings.warn(\n",
      "/work/dpandya/miniconda3/envs/onlyWhisper/lib/python3.11/site-packages/transformers/models/whisper/generation_whisper.py:483: FutureWarning: The input name `inputs` is deprecated. Please make sure to use `input_features` instead.\n",
      "  warnings.warn(\n",
      "/work/dpandya/miniconda3/envs/onlyWhisper/lib/python3.11/site-packages/transformers/models/whisper/generation_whisper.py:483: FutureWarning: The input name `inputs` is deprecated. Please make sure to use `input_features` instead.\n",
      "  warnings.warn(\n",
      "/work/dpandya/miniconda3/envs/onlyWhisper/lib/python3.11/site-packages/transformers/models/whisper/generation_whisper.py:483: FutureWarning: The input name `inputs` is deprecated. Please make sure to use `input_features` instead.\n",
      "  warnings.warn(\n",
      "/work/dpandya/miniconda3/envs/onlyWhisper/lib/python3.11/site-packages/transformers/models/whisper/generation_whisper.py:483: FutureWarning: The input name `inputs` is deprecated. Please make sure to use `input_features` instead.\n",
      "  warnings.warn(\n",
      "/work/dpandya/miniconda3/envs/onlyWhisper/lib/python3.11/site-packages/transformers/models/whisper/generation_whisper.py:483: FutureWarning: The input name `inputs` is deprecated. Please make sure to use `input_features` instead.\n",
      "  warnings.warn(\n",
      "/work/dpandya/miniconda3/envs/onlyWhisper/lib/python3.11/site-packages/transformers/models/whisper/generation_whisper.py:483: FutureWarning: The input name `inputs` is deprecated. Please make sure to use `input_features` instead.\n",
      "  warnings.warn(\n",
      "/work/dpandya/miniconda3/envs/onlyWhisper/lib/python3.11/site-packages/transformers/models/whisper/generation_whisper.py:483: FutureWarning: The input name `inputs` is deprecated. Please make sure to use `input_features` instead.\n",
      "  warnings.warn(\n",
      "/work/dpandya/miniconda3/envs/onlyWhisper/lib/python3.11/site-packages/transformers/models/whisper/generation_whisper.py:483: FutureWarning: The input name `inputs` is deprecated. Please make sure to use `input_features` instead.\n",
      "  warnings.warn(\n",
      "/work/dpandya/miniconda3/envs/onlyWhisper/lib/python3.11/site-packages/transformers/models/whisper/generation_whisper.py:483: FutureWarning: The input name `inputs` is deprecated. Please make sure to use `input_features` instead.\n",
      "  warnings.warn(\n",
      "/work/dpandya/miniconda3/envs/onlyWhisper/lib/python3.11/site-packages/transformers/models/whisper/generation_whisper.py:483: FutureWarning: The input name `inputs` is deprecated. Please make sure to use `input_features` instead.\n",
      "  warnings.warn(\n",
      "/work/dpandya/miniconda3/envs/onlyWhisper/lib/python3.11/site-packages/transformers/models/whisper/generation_whisper.py:483: FutureWarning: The input name `inputs` is deprecated. Please make sure to use `input_features` instead.\n",
      "  warnings.warn(\n",
      "/work/dpandya/miniconda3/envs/onlyWhisper/lib/python3.11/site-packages/transformers/models/whisper/generation_whisper.py:483: FutureWarning: The input name `inputs` is deprecated. Please make sure to use `input_features` instead.\n",
      "  warnings.warn(\n",
      "/work/dpandya/miniconda3/envs/onlyWhisper/lib/python3.11/site-packages/transformers/models/whisper/generation_whisper.py:483: FutureWarning: The input name `inputs` is deprecated. Please make sure to use `input_features` instead.\n",
      "  warnings.warn(\n",
      "/work/dpandya/miniconda3/envs/onlyWhisper/lib/python3.11/site-packages/transformers/models/whisper/generation_whisper.py:483: FutureWarning: The input name `inputs` is deprecated. Please make sure to use `input_features` instead.\n",
      "  warnings.warn(\n",
      "/work/dpandya/miniconda3/envs/onlyWhisper/lib/python3.11/site-packages/transformers/models/whisper/generation_whisper.py:483: FutureWarning: The input name `inputs` is deprecated. Please make sure to use `input_features` instead.\n",
      "  warnings.warn(\n",
      "/work/dpandya/miniconda3/envs/onlyWhisper/lib/python3.11/site-packages/transformers/models/whisper/generation_whisper.py:483: FutureWarning: The input name `inputs` is deprecated. Please make sure to use `input_features` instead.\n",
      "  warnings.warn(\n",
      "/work/dpandya/miniconda3/envs/onlyWhisper/lib/python3.11/site-packages/transformers/models/whisper/generation_whisper.py:483: FutureWarning: The input name `inputs` is deprecated. Please make sure to use `input_features` instead.\n",
      "  warnings.warn(\n",
      "/work/dpandya/miniconda3/envs/onlyWhisper/lib/python3.11/site-packages/transformers/models/whisper/generation_whisper.py:483: FutureWarning: The input name `inputs` is deprecated. Please make sure to use `input_features` instead.\n",
      "  warnings.warn(\n",
      "/work/dpandya/miniconda3/envs/onlyWhisper/lib/python3.11/site-packages/transformers/models/whisper/generation_whisper.py:483: FutureWarning: The input name `inputs` is deprecated. Please make sure to use `input_features` instead.\n",
      "  warnings.warn(\n",
      "/work/dpandya/miniconda3/envs/onlyWhisper/lib/python3.11/site-packages/transformers/models/whisper/generation_whisper.py:483: FutureWarning: The input name `inputs` is deprecated. Please make sure to use `input_features` instead.\n",
      "  warnings.warn(\n",
      "/work/dpandya/miniconda3/envs/onlyWhisper/lib/python3.11/site-packages/transformers/models/whisper/generation_whisper.py:483: FutureWarning: The input name `inputs` is deprecated. Please make sure to use `input_features` instead.\n",
      "  warnings.warn(\n",
      "/work/dpandya/miniconda3/envs/onlyWhisper/lib/python3.11/site-packages/transformers/models/whisper/generation_whisper.py:483: FutureWarning: The input name `inputs` is deprecated. Please make sure to use `input_features` instead.\n",
      "  warnings.warn(\n",
      "/work/dpandya/miniconda3/envs/onlyWhisper/lib/python3.11/site-packages/transformers/models/whisper/generation_whisper.py:483: FutureWarning: The input name `inputs` is deprecated. Please make sure to use `input_features` instead.\n",
      "  warnings.warn(\n",
      "/work/dpandya/miniconda3/envs/onlyWhisper/lib/python3.11/site-packages/transformers/models/whisper/generation_whisper.py:483: FutureWarning: The input name `inputs` is deprecated. Please make sure to use `input_features` instead.\n",
      "  warnings.warn(\n",
      "/work/dpandya/miniconda3/envs/onlyWhisper/lib/python3.11/site-packages/transformers/models/whisper/generation_whisper.py:483: FutureWarning: The input name `inputs` is deprecated. Please make sure to use `input_features` instead.\n",
      "  warnings.warn(\n",
      "/work/dpandya/miniconda3/envs/onlyWhisper/lib/python3.11/site-packages/transformers/models/whisper/generation_whisper.py:483: FutureWarning: The input name `inputs` is deprecated. Please make sure to use `input_features` instead.\n",
      "  warnings.warn(\n",
      "/work/dpandya/miniconda3/envs/onlyWhisper/lib/python3.11/site-packages/transformers/models/whisper/generation_whisper.py:483: FutureWarning: The input name `inputs` is deprecated. Please make sure to use `input_features` instead.\n",
      "  warnings.warn(\n",
      "/work/dpandya/miniconda3/envs/onlyWhisper/lib/python3.11/site-packages/transformers/models/whisper/generation_whisper.py:483: FutureWarning: The input name `inputs` is deprecated. Please make sure to use `input_features` instead.\n",
      "  warnings.warn(\n",
      "/work/dpandya/miniconda3/envs/onlyWhisper/lib/python3.11/site-packages/transformers/models/whisper/generation_whisper.py:483: FutureWarning: The input name `inputs` is deprecated. Please make sure to use `input_features` instead.\n",
      "  warnings.warn(\n",
      "/work/dpandya/miniconda3/envs/onlyWhisper/lib/python3.11/site-packages/transformers/models/whisper/generation_whisper.py:483: FutureWarning: The input name `inputs` is deprecated. Please make sure to use `input_features` instead.\n",
      "  warnings.warn(\n",
      "/work/dpandya/miniconda3/envs/onlyWhisper/lib/python3.11/site-packages/transformers/models/whisper/generation_whisper.py:483: FutureWarning: The input name `inputs` is deprecated. Please make sure to use `input_features` instead.\n",
      "  warnings.warn(\n",
      "/work/dpandya/miniconda3/envs/onlyWhisper/lib/python3.11/site-packages/transformers/models/whisper/generation_whisper.py:483: FutureWarning: The input name `inputs` is deprecated. Please make sure to use `input_features` instead.\n",
      "  warnings.warn(\n",
      "/work/dpandya/miniconda3/envs/onlyWhisper/lib/python3.11/site-packages/transformers/models/whisper/generation_whisper.py:483: FutureWarning: The input name `inputs` is deprecated. Please make sure to use `input_features` instead.\n",
      "  warnings.warn(\n",
      "/work/dpandya/miniconda3/envs/onlyWhisper/lib/python3.11/site-packages/transformers/models/whisper/generation_whisper.py:483: FutureWarning: The input name `inputs` is deprecated. Please make sure to use `input_features` instead.\n",
      "  warnings.warn(\n",
      "/work/dpandya/miniconda3/envs/onlyWhisper/lib/python3.11/site-packages/transformers/models/whisper/generation_whisper.py:483: FutureWarning: The input name `inputs` is deprecated. Please make sure to use `input_features` instead.\n",
      "  warnings.warn(\n",
      "/work/dpandya/miniconda3/envs/onlyWhisper/lib/python3.11/site-packages/transformers/models/whisper/generation_whisper.py:483: FutureWarning: The input name `inputs` is deprecated. Please make sure to use `input_features` instead.\n",
      "  warnings.warn(\n",
      "/work/dpandya/miniconda3/envs/onlyWhisper/lib/python3.11/site-packages/transformers/models/whisper/generation_whisper.py:483: FutureWarning: The input name `inputs` is deprecated. Please make sure to use `input_features` instead.\n",
      "  warnings.warn(\n",
      "/work/dpandya/miniconda3/envs/onlyWhisper/lib/python3.11/site-packages/transformers/models/whisper/generation_whisper.py:483: FutureWarning: The input name `inputs` is deprecated. Please make sure to use `input_features` instead.\n",
      "  warnings.warn(\n",
      "/work/dpandya/miniconda3/envs/onlyWhisper/lib/python3.11/site-packages/transformers/models/whisper/generation_whisper.py:483: FutureWarning: The input name `inputs` is deprecated. Please make sure to use `input_features` instead.\n",
      "  warnings.warn(\n",
      "/work/dpandya/miniconda3/envs/onlyWhisper/lib/python3.11/site-packages/transformers/models/whisper/generation_whisper.py:483: FutureWarning: The input name `inputs` is deprecated. Please make sure to use `input_features` instead.\n",
      "  warnings.warn(\n",
      "/work/dpandya/miniconda3/envs/onlyWhisper/lib/python3.11/site-packages/transformers/models/whisper/generation_whisper.py:483: FutureWarning: The input name `inputs` is deprecated. Please make sure to use `input_features` instead.\n",
      "  warnings.warn(\n",
      "/work/dpandya/miniconda3/envs/onlyWhisper/lib/python3.11/site-packages/transformers/models/whisper/generation_whisper.py:483: FutureWarning: The input name `inputs` is deprecated. Please make sure to use `input_features` instead.\n",
      "  warnings.warn(\n",
      "/work/dpandya/miniconda3/envs/onlyWhisper/lib/python3.11/site-packages/transformers/models/whisper/generation_whisper.py:483: FutureWarning: The input name `inputs` is deprecated. Please make sure to use `input_features` instead.\n",
      "  warnings.warn(\n",
      "/work/dpandya/miniconda3/envs/onlyWhisper/lib/python3.11/site-packages/transformers/models/whisper/generation_whisper.py:483: FutureWarning: The input name `inputs` is deprecated. Please make sure to use `input_features` instead.\n",
      "  warnings.warn(\n",
      "/work/dpandya/miniconda3/envs/onlyWhisper/lib/python3.11/site-packages/transformers/models/whisper/generation_whisper.py:483: FutureWarning: The input name `inputs` is deprecated. Please make sure to use `input_features` instead.\n",
      "  warnings.warn(\n",
      "/work/dpandya/miniconda3/envs/onlyWhisper/lib/python3.11/site-packages/transformers/models/whisper/generation_whisper.py:483: FutureWarning: The input name `inputs` is deprecated. Please make sure to use `input_features` instead.\n",
      "  warnings.warn(\n",
      "/work/dpandya/miniconda3/envs/onlyWhisper/lib/python3.11/site-packages/transformers/models/whisper/generation_whisper.py:483: FutureWarning: The input name `inputs` is deprecated. Please make sure to use `input_features` instead.\n",
      "  warnings.warn(\n",
      "/work/dpandya/miniconda3/envs/onlyWhisper/lib/python3.11/site-packages/transformers/models/whisper/generation_whisper.py:483: FutureWarning: The input name `inputs` is deprecated. Please make sure to use `input_features` instead.\n",
      "  warnings.warn(\n",
      "/work/dpandya/miniconda3/envs/onlyWhisper/lib/python3.11/site-packages/transformers/models/whisper/generation_whisper.py:483: FutureWarning: The input name `inputs` is deprecated. Please make sure to use `input_features` instead.\n",
      "  warnings.warn(\n",
      "/work/dpandya/miniconda3/envs/onlyWhisper/lib/python3.11/site-packages/transformers/models/whisper/generation_whisper.py:483: FutureWarning: The input name `inputs` is deprecated. Please make sure to use `input_features` instead.\n",
      "  warnings.warn(\n",
      "/work/dpandya/miniconda3/envs/onlyWhisper/lib/python3.11/site-packages/transformers/models/whisper/generation_whisper.py:483: FutureWarning: The input name `inputs` is deprecated. Please make sure to use `input_features` instead.\n",
      "  warnings.warn(\n",
      "/work/dpandya/miniconda3/envs/onlyWhisper/lib/python3.11/site-packages/transformers/models/whisper/generation_whisper.py:483: FutureWarning: The input name `inputs` is deprecated. Please make sure to use `input_features` instead.\n",
      "  warnings.warn(\n",
      "/work/dpandya/miniconda3/envs/onlyWhisper/lib/python3.11/site-packages/transformers/models/whisper/generation_whisper.py:483: FutureWarning: The input name `inputs` is deprecated. Please make sure to use `input_features` instead.\n",
      "  warnings.warn(\n",
      "/work/dpandya/miniconda3/envs/onlyWhisper/lib/python3.11/site-packages/transformers/models/whisper/generation_whisper.py:483: FutureWarning: The input name `inputs` is deprecated. Please make sure to use `input_features` instead.\n",
      "  warnings.warn(\n",
      "/work/dpandya/miniconda3/envs/onlyWhisper/lib/python3.11/site-packages/transformers/models/whisper/generation_whisper.py:483: FutureWarning: The input name `inputs` is deprecated. Please make sure to use `input_features` instead.\n",
      "  warnings.warn(\n",
      "/work/dpandya/miniconda3/envs/onlyWhisper/lib/python3.11/site-packages/transformers/models/whisper/generation_whisper.py:483: FutureWarning: The input name `inputs` is deprecated. Please make sure to use `input_features` instead.\n",
      "  warnings.warn(\n",
      "/work/dpandya/miniconda3/envs/onlyWhisper/lib/python3.11/site-packages/transformers/models/whisper/generation_whisper.py:483: FutureWarning: The input name `inputs` is deprecated. Please make sure to use `input_features` instead.\n",
      "  warnings.warn(\n",
      "/work/dpandya/miniconda3/envs/onlyWhisper/lib/python3.11/site-packages/transformers/models/whisper/generation_whisper.py:483: FutureWarning: The input name `inputs` is deprecated. Please make sure to use `input_features` instead.\n",
      "  warnings.warn(\n",
      "/work/dpandya/miniconda3/envs/onlyWhisper/lib/python3.11/site-packages/transformers/models/whisper/generation_whisper.py:483: FutureWarning: The input name `inputs` is deprecated. Please make sure to use `input_features` instead.\n",
      "  warnings.warn(\n",
      "/work/dpandya/miniconda3/envs/onlyWhisper/lib/python3.11/site-packages/transformers/models/whisper/generation_whisper.py:483: FutureWarning: The input name `inputs` is deprecated. Please make sure to use `input_features` instead.\n",
      "  warnings.warn(\n",
      "/work/dpandya/miniconda3/envs/onlyWhisper/lib/python3.11/site-packages/transformers/models/whisper/generation_whisper.py:483: FutureWarning: The input name `inputs` is deprecated. Please make sure to use `input_features` instead.\n",
      "  warnings.warn(\n",
      "/work/dpandya/miniconda3/envs/onlyWhisper/lib/python3.11/site-packages/transformers/models/whisper/generation_whisper.py:483: FutureWarning: The input name `inputs` is deprecated. Please make sure to use `input_features` instead.\n",
      "  warnings.warn(\n",
      "/work/dpandya/miniconda3/envs/onlyWhisper/lib/python3.11/site-packages/transformers/models/whisper/generation_whisper.py:483: FutureWarning: The input name `inputs` is deprecated. Please make sure to use `input_features` instead.\n",
      "  warnings.warn(\n",
      "/work/dpandya/miniconda3/envs/onlyWhisper/lib/python3.11/site-packages/transformers/models/whisper/generation_whisper.py:483: FutureWarning: The input name `inputs` is deprecated. Please make sure to use `input_features` instead.\n",
      "  warnings.warn(\n",
      "/work/dpandya/miniconda3/envs/onlyWhisper/lib/python3.11/site-packages/transformers/models/whisper/generation_whisper.py:483: FutureWarning: The input name `inputs` is deprecated. Please make sure to use `input_features` instead.\n",
      "  warnings.warn(\n",
      "/work/dpandya/miniconda3/envs/onlyWhisper/lib/python3.11/site-packages/transformers/models/whisper/generation_whisper.py:483: FutureWarning: The input name `inputs` is deprecated. Please make sure to use `input_features` instead.\n",
      "  warnings.warn(\n",
      "/work/dpandya/miniconda3/envs/onlyWhisper/lib/python3.11/site-packages/transformers/models/whisper/generation_whisper.py:483: FutureWarning: The input name `inputs` is deprecated. Please make sure to use `input_features` instead.\n",
      "  warnings.warn(\n",
      "/work/dpandya/miniconda3/envs/onlyWhisper/lib/python3.11/site-packages/transformers/models/whisper/generation_whisper.py:483: FutureWarning: The input name `inputs` is deprecated. Please make sure to use `input_features` instead.\n",
      "  warnings.warn(\n",
      "/work/dpandya/miniconda3/envs/onlyWhisper/lib/python3.11/site-packages/transformers/models/whisper/generation_whisper.py:483: FutureWarning: The input name `inputs` is deprecated. Please make sure to use `input_features` instead.\n",
      "  warnings.warn(\n",
      "/work/dpandya/miniconda3/envs/onlyWhisper/lib/python3.11/site-packages/transformers/models/whisper/generation_whisper.py:483: FutureWarning: The input name `inputs` is deprecated. Please make sure to use `input_features` instead.\n",
      "  warnings.warn(\n",
      "/work/dpandya/miniconda3/envs/onlyWhisper/lib/python3.11/site-packages/transformers/models/whisper/generation_whisper.py:483: FutureWarning: The input name `inputs` is deprecated. Please make sure to use `input_features` instead.\n",
      "  warnings.warn(\n",
      "/work/dpandya/miniconda3/envs/onlyWhisper/lib/python3.11/site-packages/transformers/models/whisper/generation_whisper.py:483: FutureWarning: The input name `inputs` is deprecated. Please make sure to use `input_features` instead.\n",
      "  warnings.warn(\n",
      "/work/dpandya/miniconda3/envs/onlyWhisper/lib/python3.11/site-packages/transformers/models/whisper/generation_whisper.py:483: FutureWarning: The input name `inputs` is deprecated. Please make sure to use `input_features` instead.\n",
      "  warnings.warn(\n",
      "/work/dpandya/miniconda3/envs/onlyWhisper/lib/python3.11/site-packages/transformers/models/whisper/generation_whisper.py:483: FutureWarning: The input name `inputs` is deprecated. Please make sure to use `input_features` instead.\n",
      "  warnings.warn(\n",
      "/work/dpandya/miniconda3/envs/onlyWhisper/lib/python3.11/site-packages/transformers/models/whisper/generation_whisper.py:483: FutureWarning: The input name `inputs` is deprecated. Please make sure to use `input_features` instead.\n",
      "  warnings.warn(\n",
      "/work/dpandya/miniconda3/envs/onlyWhisper/lib/python3.11/site-packages/transformers/models/whisper/generation_whisper.py:483: FutureWarning: The input name `inputs` is deprecated. Please make sure to use `input_features` instead.\n",
      "  warnings.warn(\n",
      "/work/dpandya/miniconda3/envs/onlyWhisper/lib/python3.11/site-packages/transformers/models/whisper/generation_whisper.py:483: FutureWarning: The input name `inputs` is deprecated. Please make sure to use `input_features` instead.\n",
      "  warnings.warn(\n",
      "/work/dpandya/miniconda3/envs/onlyWhisper/lib/python3.11/site-packages/transformers/models/whisper/generation_whisper.py:483: FutureWarning: The input name `inputs` is deprecated. Please make sure to use `input_features` instead.\n",
      "  warnings.warn(\n",
      "/work/dpandya/miniconda3/envs/onlyWhisper/lib/python3.11/site-packages/transformers/models/whisper/generation_whisper.py:483: FutureWarning: The input name `inputs` is deprecated. Please make sure to use `input_features` instead.\n",
      "  warnings.warn(\n",
      "/work/dpandya/miniconda3/envs/onlyWhisper/lib/python3.11/site-packages/transformers/models/whisper/generation_whisper.py:483: FutureWarning: The input name `inputs` is deprecated. Please make sure to use `input_features` instead.\n",
      "  warnings.warn(\n",
      "/work/dpandya/miniconda3/envs/onlyWhisper/lib/python3.11/site-packages/transformers/models/whisper/generation_whisper.py:483: FutureWarning: The input name `inputs` is deprecated. Please make sure to use `input_features` instead.\n",
      "  warnings.warn(\n",
      "/work/dpandya/miniconda3/envs/onlyWhisper/lib/python3.11/site-packages/transformers/models/whisper/generation_whisper.py:483: FutureWarning: The input name `inputs` is deprecated. Please make sure to use `input_features` instead.\n",
      "  warnings.warn(\n",
      "/work/dpandya/miniconda3/envs/onlyWhisper/lib/python3.11/site-packages/transformers/models/whisper/generation_whisper.py:483: FutureWarning: The input name `inputs` is deprecated. Please make sure to use `input_features` instead.\n",
      "  warnings.warn(\n",
      "/work/dpandya/miniconda3/envs/onlyWhisper/lib/python3.11/site-packages/transformers/models/whisper/generation_whisper.py:483: FutureWarning: The input name `inputs` is deprecated. Please make sure to use `input_features` instead.\n",
      "  warnings.warn(\n",
      "/work/dpandya/miniconda3/envs/onlyWhisper/lib/python3.11/site-packages/transformers/models/whisper/generation_whisper.py:483: FutureWarning: The input name `inputs` is deprecated. Please make sure to use `input_features` instead.\n",
      "  warnings.warn(\n",
      "/work/dpandya/miniconda3/envs/onlyWhisper/lib/python3.11/site-packages/transformers/models/whisper/generation_whisper.py:483: FutureWarning: The input name `inputs` is deprecated. Please make sure to use `input_features` instead.\n",
      "  warnings.warn(\n",
      "/work/dpandya/miniconda3/envs/onlyWhisper/lib/python3.11/site-packages/transformers/models/whisper/generation_whisper.py:483: FutureWarning: The input name `inputs` is deprecated. Please make sure to use `input_features` instead.\n",
      "  warnings.warn(\n",
      "/work/dpandya/miniconda3/envs/onlyWhisper/lib/python3.11/site-packages/transformers/models/whisper/generation_whisper.py:483: FutureWarning: The input name `inputs` is deprecated. Please make sure to use `input_features` instead.\n",
      "  warnings.warn(\n",
      "/work/dpandya/miniconda3/envs/onlyWhisper/lib/python3.11/site-packages/transformers/models/whisper/generation_whisper.py:483: FutureWarning: The input name `inputs` is deprecated. Please make sure to use `input_features` instead.\n",
      "  warnings.warn(\n",
      "/work/dpandya/miniconda3/envs/onlyWhisper/lib/python3.11/site-packages/transformers/models/whisper/generation_whisper.py:483: FutureWarning: The input name `inputs` is deprecated. Please make sure to use `input_features` instead.\n",
      "  warnings.warn(\n",
      "/work/dpandya/miniconda3/envs/onlyWhisper/lib/python3.11/site-packages/transformers/models/whisper/generation_whisper.py:483: FutureWarning: The input name `inputs` is deprecated. Please make sure to use `input_features` instead.\n",
      "  warnings.warn(\n",
      "/work/dpandya/miniconda3/envs/onlyWhisper/lib/python3.11/site-packages/transformers/models/whisper/generation_whisper.py:483: FutureWarning: The input name `inputs` is deprecated. Please make sure to use `input_features` instead.\n",
      "  warnings.warn(\n",
      "/work/dpandya/miniconda3/envs/onlyWhisper/lib/python3.11/site-packages/transformers/models/whisper/generation_whisper.py:483: FutureWarning: The input name `inputs` is deprecated. Please make sure to use `input_features` instead.\n",
      "  warnings.warn(\n",
      "/work/dpandya/miniconda3/envs/onlyWhisper/lib/python3.11/site-packages/transformers/models/whisper/generation_whisper.py:483: FutureWarning: The input name `inputs` is deprecated. Please make sure to use `input_features` instead.\n",
      "  warnings.warn(\n",
      "/work/dpandya/miniconda3/envs/onlyWhisper/lib/python3.11/site-packages/transformers/models/whisper/generation_whisper.py:483: FutureWarning: The input name `inputs` is deprecated. Please make sure to use `input_features` instead.\n",
      "  warnings.warn(\n",
      "/work/dpandya/miniconda3/envs/onlyWhisper/lib/python3.11/site-packages/transformers/models/whisper/generation_whisper.py:483: FutureWarning: The input name `inputs` is deprecated. Please make sure to use `input_features` instead.\n",
      "  warnings.warn(\n",
      "/work/dpandya/miniconda3/envs/onlyWhisper/lib/python3.11/site-packages/transformers/models/whisper/generation_whisper.py:483: FutureWarning: The input name `inputs` is deprecated. Please make sure to use `input_features` instead.\n",
      "  warnings.warn(\n",
      "/work/dpandya/miniconda3/envs/onlyWhisper/lib/python3.11/site-packages/transformers/models/whisper/generation_whisper.py:483: FutureWarning: The input name `inputs` is deprecated. Please make sure to use `input_features` instead.\n",
      "  warnings.warn(\n",
      "/work/dpandya/miniconda3/envs/onlyWhisper/lib/python3.11/site-packages/transformers/models/whisper/generation_whisper.py:483: FutureWarning: The input name `inputs` is deprecated. Please make sure to use `input_features` instead.\n",
      "  warnings.warn(\n",
      "/work/dpandya/miniconda3/envs/onlyWhisper/lib/python3.11/site-packages/transformers/models/whisper/generation_whisper.py:483: FutureWarning: The input name `inputs` is deprecated. Please make sure to use `input_features` instead.\n",
      "  warnings.warn(\n",
      "/work/dpandya/miniconda3/envs/onlyWhisper/lib/python3.11/site-packages/transformers/models/whisper/generation_whisper.py:483: FutureWarning: The input name `inputs` is deprecated. Please make sure to use `input_features` instead.\n",
      "  warnings.warn(\n",
      "/work/dpandya/miniconda3/envs/onlyWhisper/lib/python3.11/site-packages/transformers/models/whisper/generation_whisper.py:483: FutureWarning: The input name `inputs` is deprecated. Please make sure to use `input_features` instead.\n",
      "  warnings.warn(\n",
      "/work/dpandya/miniconda3/envs/onlyWhisper/lib/python3.11/site-packages/transformers/models/whisper/generation_whisper.py:483: FutureWarning: The input name `inputs` is deprecated. Please make sure to use `input_features` instead.\n",
      "  warnings.warn(\n",
      "/work/dpandya/miniconda3/envs/onlyWhisper/lib/python3.11/site-packages/transformers/models/whisper/generation_whisper.py:483: FutureWarning: The input name `inputs` is deprecated. Please make sure to use `input_features` instead.\n",
      "  warnings.warn(\n",
      "/work/dpandya/miniconda3/envs/onlyWhisper/lib/python3.11/site-packages/transformers/models/whisper/generation_whisper.py:483: FutureWarning: The input name `inputs` is deprecated. Please make sure to use `input_features` instead.\n",
      "  warnings.warn(\n",
      "/work/dpandya/miniconda3/envs/onlyWhisper/lib/python3.11/site-packages/transformers/models/whisper/generation_whisper.py:483: FutureWarning: The input name `inputs` is deprecated. Please make sure to use `input_features` instead.\n",
      "  warnings.warn(\n",
      "/work/dpandya/miniconda3/envs/onlyWhisper/lib/python3.11/site-packages/transformers/models/whisper/generation_whisper.py:483: FutureWarning: The input name `inputs` is deprecated. Please make sure to use `input_features` instead.\n",
      "  warnings.warn(\n",
      "/work/dpandya/miniconda3/envs/onlyWhisper/lib/python3.11/site-packages/transformers/models/whisper/generation_whisper.py:483: FutureWarning: The input name `inputs` is deprecated. Please make sure to use `input_features` instead.\n",
      "  warnings.warn(\n",
      "/work/dpandya/miniconda3/envs/onlyWhisper/lib/python3.11/site-packages/transformers/models/whisper/generation_whisper.py:483: FutureWarning: The input name `inputs` is deprecated. Please make sure to use `input_features` instead.\n",
      "  warnings.warn(\n",
      "/work/dpandya/miniconda3/envs/onlyWhisper/lib/python3.11/site-packages/transformers/models/whisper/generation_whisper.py:483: FutureWarning: The input name `inputs` is deprecated. Please make sure to use `input_features` instead.\n",
      "  warnings.warn(\n",
      "/work/dpandya/miniconda3/envs/onlyWhisper/lib/python3.11/site-packages/transformers/models/whisper/generation_whisper.py:483: FutureWarning: The input name `inputs` is deprecated. Please make sure to use `input_features` instead.\n",
      "  warnings.warn(\n",
      "/work/dpandya/miniconda3/envs/onlyWhisper/lib/python3.11/site-packages/transformers/models/whisper/generation_whisper.py:483: FutureWarning: The input name `inputs` is deprecated. Please make sure to use `input_features` instead.\n",
      "  warnings.warn(\n",
      "/work/dpandya/miniconda3/envs/onlyWhisper/lib/python3.11/site-packages/transformers/models/whisper/generation_whisper.py:483: FutureWarning: The input name `inputs` is deprecated. Please make sure to use `input_features` instead.\n",
      "  warnings.warn(\n",
      "/work/dpandya/miniconda3/envs/onlyWhisper/lib/python3.11/site-packages/transformers/models/whisper/generation_whisper.py:483: FutureWarning: The input name `inputs` is deprecated. Please make sure to use `input_features` instead.\n",
      "  warnings.warn(\n",
      "/work/dpandya/miniconda3/envs/onlyWhisper/lib/python3.11/site-packages/transformers/models/whisper/generation_whisper.py:483: FutureWarning: The input name `inputs` is deprecated. Please make sure to use `input_features` instead.\n",
      "  warnings.warn(\n",
      "/work/dpandya/miniconda3/envs/onlyWhisper/lib/python3.11/site-packages/transformers/models/whisper/generation_whisper.py:483: FutureWarning: The input name `inputs` is deprecated. Please make sure to use `input_features` instead.\n",
      "  warnings.warn(\n",
      "/work/dpandya/miniconda3/envs/onlyWhisper/lib/python3.11/site-packages/transformers/models/whisper/generation_whisper.py:483: FutureWarning: The input name `inputs` is deprecated. Please make sure to use `input_features` instead.\n",
      "  warnings.warn(\n",
      "/work/dpandya/miniconda3/envs/onlyWhisper/lib/python3.11/site-packages/transformers/models/whisper/generation_whisper.py:483: FutureWarning: The input name `inputs` is deprecated. Please make sure to use `input_features` instead.\n",
      "  warnings.warn(\n",
      "/work/dpandya/miniconda3/envs/onlyWhisper/lib/python3.11/site-packages/transformers/models/whisper/generation_whisper.py:483: FutureWarning: The input name `inputs` is deprecated. Please make sure to use `input_features` instead.\n",
      "  warnings.warn(\n",
      "/work/dpandya/miniconda3/envs/onlyWhisper/lib/python3.11/site-packages/transformers/models/whisper/generation_whisper.py:483: FutureWarning: The input name `inputs` is deprecated. Please make sure to use `input_features` instead.\n",
      "  warnings.warn(\n",
      "/work/dpandya/miniconda3/envs/onlyWhisper/lib/python3.11/site-packages/transformers/models/whisper/generation_whisper.py:483: FutureWarning: The input name `inputs` is deprecated. Please make sure to use `input_features` instead.\n",
      "  warnings.warn(\n",
      "/work/dpandya/miniconda3/envs/onlyWhisper/lib/python3.11/site-packages/transformers/models/whisper/generation_whisper.py:483: FutureWarning: The input name `inputs` is deprecated. Please make sure to use `input_features` instead.\n",
      "  warnings.warn(\n",
      "/work/dpandya/miniconda3/envs/onlyWhisper/lib/python3.11/site-packages/transformers/models/whisper/generation_whisper.py:483: FutureWarning: The input name `inputs` is deprecated. Please make sure to use `input_features` instead.\n",
      "  warnings.warn(\n",
      "/work/dpandya/miniconda3/envs/onlyWhisper/lib/python3.11/site-packages/transformers/models/whisper/generation_whisper.py:483: FutureWarning: The input name `inputs` is deprecated. Please make sure to use `input_features` instead.\n",
      "  warnings.warn(\n",
      "/work/dpandya/miniconda3/envs/onlyWhisper/lib/python3.11/site-packages/transformers/models/whisper/generation_whisper.py:483: FutureWarning: The input name `inputs` is deprecated. Please make sure to use `input_features` instead.\n",
      "  warnings.warn(\n",
      "/work/dpandya/miniconda3/envs/onlyWhisper/lib/python3.11/site-packages/transformers/models/whisper/generation_whisper.py:483: FutureWarning: The input name `inputs` is deprecated. Please make sure to use `input_features` instead.\n",
      "  warnings.warn(\n",
      "/work/dpandya/miniconda3/envs/onlyWhisper/lib/python3.11/site-packages/transformers/models/whisper/generation_whisper.py:483: FutureWarning: The input name `inputs` is deprecated. Please make sure to use `input_features` instead.\n",
      "  warnings.warn(\n",
      "/work/dpandya/miniconda3/envs/onlyWhisper/lib/python3.11/site-packages/transformers/models/whisper/generation_whisper.py:483: FutureWarning: The input name `inputs` is deprecated. Please make sure to use `input_features` instead.\n",
      "  warnings.warn(\n",
      "/work/dpandya/miniconda3/envs/onlyWhisper/lib/python3.11/site-packages/transformers/models/whisper/generation_whisper.py:483: FutureWarning: The input name `inputs` is deprecated. Please make sure to use `input_features` instead.\n",
      "  warnings.warn(\n",
      "/work/dpandya/miniconda3/envs/onlyWhisper/lib/python3.11/site-packages/transformers/models/whisper/generation_whisper.py:483: FutureWarning: The input name `inputs` is deprecated. Please make sure to use `input_features` instead.\n",
      "  warnings.warn(\n",
      "/work/dpandya/miniconda3/envs/onlyWhisper/lib/python3.11/site-packages/transformers/models/whisper/generation_whisper.py:483: FutureWarning: The input name `inputs` is deprecated. Please make sure to use `input_features` instead.\n",
      "  warnings.warn(\n",
      "/work/dpandya/miniconda3/envs/onlyWhisper/lib/python3.11/site-packages/transformers/models/whisper/generation_whisper.py:483: FutureWarning: The input name `inputs` is deprecated. Please make sure to use `input_features` instead.\n",
      "  warnings.warn(\n",
      "/work/dpandya/miniconda3/envs/onlyWhisper/lib/python3.11/site-packages/transformers/models/whisper/generation_whisper.py:483: FutureWarning: The input name `inputs` is deprecated. Please make sure to use `input_features` instead.\n",
      "  warnings.warn(\n",
      "/work/dpandya/miniconda3/envs/onlyWhisper/lib/python3.11/site-packages/transformers/models/whisper/generation_whisper.py:483: FutureWarning: The input name `inputs` is deprecated. Please make sure to use `input_features` instead.\n",
      "  warnings.warn(\n",
      "/work/dpandya/miniconda3/envs/onlyWhisper/lib/python3.11/site-packages/transformers/models/whisper/generation_whisper.py:483: FutureWarning: The input name `inputs` is deprecated. Please make sure to use `input_features` instead.\n",
      "  warnings.warn(\n",
      "/work/dpandya/miniconda3/envs/onlyWhisper/lib/python3.11/site-packages/transformers/models/whisper/generation_whisper.py:483: FutureWarning: The input name `inputs` is deprecated. Please make sure to use `input_features` instead.\n",
      "  warnings.warn(\n",
      "/work/dpandya/miniconda3/envs/onlyWhisper/lib/python3.11/site-packages/transformers/models/whisper/generation_whisper.py:483: FutureWarning: The input name `inputs` is deprecated. Please make sure to use `input_features` instead.\n",
      "  warnings.warn(\n",
      "/work/dpandya/miniconda3/envs/onlyWhisper/lib/python3.11/site-packages/transformers/models/whisper/generation_whisper.py:483: FutureWarning: The input name `inputs` is deprecated. Please make sure to use `input_features` instead.\n",
      "  warnings.warn(\n",
      "/work/dpandya/miniconda3/envs/onlyWhisper/lib/python3.11/site-packages/transformers/models/whisper/generation_whisper.py:483: FutureWarning: The input name `inputs` is deprecated. Please make sure to use `input_features` instead.\n",
      "  warnings.warn(\n",
      "/work/dpandya/miniconda3/envs/onlyWhisper/lib/python3.11/site-packages/transformers/models/whisper/generation_whisper.py:483: FutureWarning: The input name `inputs` is deprecated. Please make sure to use `input_features` instead.\n",
      "  warnings.warn(\n",
      "/work/dpandya/miniconda3/envs/onlyWhisper/lib/python3.11/site-packages/transformers/models/whisper/generation_whisper.py:483: FutureWarning: The input name `inputs` is deprecated. Please make sure to use `input_features` instead.\n",
      "  warnings.warn(\n",
      "/work/dpandya/miniconda3/envs/onlyWhisper/lib/python3.11/site-packages/transformers/models/whisper/generation_whisper.py:483: FutureWarning: The input name `inputs` is deprecated. Please make sure to use `input_features` instead.\n",
      "  warnings.warn(\n",
      "/work/dpandya/miniconda3/envs/onlyWhisper/lib/python3.11/site-packages/transformers/models/whisper/generation_whisper.py:483: FutureWarning: The input name `inputs` is deprecated. Please make sure to use `input_features` instead.\n",
      "  warnings.warn(\n",
      "/work/dpandya/miniconda3/envs/onlyWhisper/lib/python3.11/site-packages/transformers/models/whisper/generation_whisper.py:483: FutureWarning: The input name `inputs` is deprecated. Please make sure to use `input_features` instead.\n",
      "  warnings.warn(\n",
      "/work/dpandya/miniconda3/envs/onlyWhisper/lib/python3.11/site-packages/transformers/models/whisper/generation_whisper.py:483: FutureWarning: The input name `inputs` is deprecated. Please make sure to use `input_features` instead.\n",
      "  warnings.warn(\n",
      "/work/dpandya/miniconda3/envs/onlyWhisper/lib/python3.11/site-packages/transformers/models/whisper/generation_whisper.py:483: FutureWarning: The input name `inputs` is deprecated. Please make sure to use `input_features` instead.\n",
      "  warnings.warn(\n",
      "/work/dpandya/miniconda3/envs/onlyWhisper/lib/python3.11/site-packages/transformers/models/whisper/generation_whisper.py:483: FutureWarning: The input name `inputs` is deprecated. Please make sure to use `input_features` instead.\n",
      "  warnings.warn(\n",
      "/work/dpandya/miniconda3/envs/onlyWhisper/lib/python3.11/site-packages/transformers/models/whisper/generation_whisper.py:483: FutureWarning: The input name `inputs` is deprecated. Please make sure to use `input_features` instead.\n",
      "  warnings.warn(\n",
      "/work/dpandya/miniconda3/envs/onlyWhisper/lib/python3.11/site-packages/transformers/models/whisper/generation_whisper.py:483: FutureWarning: The input name `inputs` is deprecated. Please make sure to use `input_features` instead.\n",
      "  warnings.warn(\n",
      "/work/dpandya/miniconda3/envs/onlyWhisper/lib/python3.11/site-packages/transformers/models/whisper/generation_whisper.py:483: FutureWarning: The input name `inputs` is deprecated. Please make sure to use `input_features` instead.\n",
      "  warnings.warn(\n"
     ]
    }
   ],
   "source": [
    "import torch\n",
    "import torchaudio\n",
    "import numpy as np\n",
    "import soundfile as sf\n",
    "from pydub import AudioSegment\n",
    "from transformers import pipeline\n",
    "import os\n",
    "import json\n",
    "from jiwer import wer # For Word Error Rate calculation\n",
    "\n",
    "# --- Configuration ---\n",
    "AUDIO_PATH = df.iloc[0]['audio_files']  # <--- IMPORTANT: Replace with your audio file path\n",
    "LABEL_JSON_PATH = df.iloc[0]['transcription_files'] # <--- IMPORTANT: Replace with your JSON label file path\n",
    "OUTPUT_DIR = \"/ceph/dpandya/notsofar/newNotsofar/\"\n",
    "\n",
    "# --- 1. Load Whisper Model ---\n",
    "print(\"1. Initializing Whisper large model...\")\n",
    "# Using 'openai/whisper-large-v3' for the largest and latest model\n",
    "# You might need to specify device=\"cuda\" if you have a GPU\n",
    "try:\n",
    "    pipe = pipeline(\"automatic-speech-recognition\", model=\"openai/whisper-medium\", device=0 if torch.cuda.is_available() else -1)\n",
    "except Exception as e:\n",
    "    print(f\"Error initializing Whisper model: {e}\")\n",
    "    print(\"Ensure you have a suitable backend (e.g., PyTorch) and sufficient memory.\")\n",
    "    print(\"If you have a GPU, ensure CUDA is properly installed.\")\n",
    "    exit()\n",
    "\n",
    "# --- 2. Load and Preprocess Audio ---\n",
    "print(f\"2. Loading audio from {AUDIO_PATH}...\")\n",
    "try:\n",
    "    audio_segment = AudioSegment.from_file(AUDIO_PATH)\n",
    "    # Resample to 16kHz, as Whisper is typically trained on it\n",
    "    if audio_segment.frame_rate != 16000:\n",
    "        print(f\"Resampling audio from {audio_segment.frame_rate}Hz to 16000Hz...\")\n",
    "        audio_segment = audio_segment.set_frame_rate(16000)\n",
    "    \n",
    "    # Export to a temporary WAV file for torchaudio to load easily\n",
    "    temp_wav_path = \"temp_audio_16khz_for_eval.wav\"\n",
    "    audio_segment.export(temp_wav_path, format=\"wav\")\n",
    "\n",
    "    # Load with torchaudio for segment extraction\n",
    "    # Ensure audio is mono\n",
    "    audio_data, sample_rate = torchaudio.load(temp_wav_path)\n",
    "    if audio_data.shape[0] > 1:\n",
    "        audio_data = torch.mean(audio_data, dim=0, keepdim=True) # Convert to mono\n",
    "    \n",
    "    # Remove the temporary file\n",
    "    os.remove(temp_wav_path)\n",
    "\n",
    "except Exception as e:\n",
    "    print(f\"Error loading audio: {e}\")\n",
    "    print(\"Please ensure the audio file exists and is a supported format (e.g., .wav, .mp3).\")\n",
    "    exit()\n",
    "\n",
    "# --- 3. Load JSON Label File ---\n",
    "print(f\"3. Loading label data from {LABEL_JSON_PATH}...\")\n",
    "try:\n",
    "    with open(LABEL_JSON_PATH, 'r', encoding='utf-8') as f:\n",
    "        ground_truth_segments = json.load(f)\n",
    "    print(f\"Loaded {len(ground_truth_segments)} ground truth segments.\")\n",
    "except FileNotFoundError:\n",
    "    print(f\"Error: Label file not found at {LABEL_JSON_PATH}\")\n",
    "    exit()\n",
    "except json.JSONDecodeError:\n",
    "    print(f\"Error: Could not decode JSON from {LABEL_JSON_PATH}. Please check file format.\")\n",
    "    exit()\n",
    "except Exception as e:\n",
    "    print(f\"An unexpected error occurred while loading JSON: {e}\")\n",
    "    exit()\n",
    "\n",
    "\n",
    "# --- 4. Process Labeled Segments with Whisper and Collect Results ---\n",
    "print(\"4. Transcribing labeled segments with Whisper and collecting results...\")\n",
    "\n",
    "if not os.path.exists(OUTPUT_DIR):\n",
    "    os.makedirs(OUTPUT_DIR)\n",
    "\n",
    "# Lists to store ground truth and hypothesis for WER calculation\n",
    "ground_truth_texts = []\n",
    "hypothesis_texts = []\n",
    "detailed_results = []\n",
    "\n",
    "for i, segment_info in enumerate(ground_truth_segments):\n",
    "    try:\n",
    "        start_time_s = segment_info['start_time']\n",
    "        end_time_s = segment_info['end_time']\n",
    "        ground_truth_text = segment_info['text']\n",
    "        speaker_id = segment_info.get('speaker', 'N/A') # Get speaker if present, default to N/A\n",
    "\n",
    "        start_sample = int(start_time_s * sample_rate)\n",
    "        end_sample = int(end_time_s * sample_rate)\n",
    "\n",
    "        if not clean_text(ground_truth_text):\n",
    "            continue\n",
    "        # Ensure segment boundaries are within audio limits\n",
    "        start_sample = max(0, start_sample)\n",
    "        end_sample = min(audio_data.shape[1], end_sample)\n",
    "        \n",
    "        # Skip very short or invalid segments\n",
    "        if end_sample <= start_sample:\n",
    "            print(f\"  Skipping invalid segment {i+1} (start_time: {start_time_s:.2f}s, end_time: {end_time_s:.2f}s).\")\n",
    "            continue\n",
    "\n",
    "        segment_data = audio_data[:, start_sample:end_sample]\n",
    "\n",
    "        # Save temporary segment for Whisper pipeline\n",
    "        temp_segment_path = os.path.join(OUTPUT_DIR, f\"eval_segment_{i:04d}.wav\")\n",
    "        sf.write(temp_segment_path, segment_data.squeeze().numpy(), sample_rate)\n",
    "\n",
    "        #print(f\"  Processing segment {i+1} (Speaker: {speaker_id}, {start_time_s:.2f}s - {end_time_s:.2f}s)...\")\n",
    "        #print(f\"    Ground Truth: \\\"{ground_truth_text}\\\"\")\n",
    "\n",
    "        # Transcribe\n",
    "        result = pipe(temp_segment_path)\n",
    "        hypothesis_text = clean_text(result[\"text\"])\n",
    "        #print(f\"    Hypothesis:   \\\"{hypothesis_text}\\\"\")\n",
    "        ground_truth_text = clean_text(ground_truth_text)\n",
    "        ground_truth_texts.append(ground_truth_text)\n",
    "        hypothesis_texts.append(hypothesis_text)\n",
    "        detailed_results.append({\n",
    "            'segment_id': i + 1,\n",
    "            'speaker': speaker_id,\n",
    "            'start_time_s': start_time_s,\n",
    "            'end_time_s': end_time_s,\n",
    "            'ground_truth': ground_truth_text,\n",
    "            'hypothesis': hypothesis_text\n",
    "        })\n",
    "        \n",
    "    except KeyError as ke:\n",
    "        print(f\"Error: Missing key in segment {i+1}: {ke}. Segment: {segment_info}\")\n",
    "    except Exception as e:\n",
    "        print(f\"Error processing segment {i+1}: {e}\")\n",
    "    finally:\n",
    "        # Clean up temporary segment file\n",
    "        if os.path.exists(temp_segment_path):\n",
    "            os.remove(temp_segment_path)"
   ]
  },
  {
   "cell_type": "code",
   "execution_count": 19,
   "id": "102215b7",
   "metadata": {},
   "outputs": [
    {
     "name": "stdout",
     "output_type": "stream",
     "text": [
      "\n",
      "--- ASR Evaluation Results ---\n",
      "\n",
      "Overall Word Error Rate (WER): 0.5136\n",
      "Detailed results saved to /ceph/dpandya/notsofar/newNotsofar/detailed_asr_results_medium.json\n",
      "Ground truth and hypothesis texts saved to /ceph/dpandya/notsofar/newNotsofar//ground_truth.txt and /ceph/dpandya/notsofar/newNotsofar//hypothesis.txt\n"
     ]
    }
   ],
   "source": [
    "# --- 5. Calculate and Report WER ---\n",
    "print(\"\\n--- ASR Evaluation Results ---\")\n",
    "if ground_truth_texts and hypothesis_texts:\n",
    "    # Calculate WER\n",
    "    overall_wer = wer(ground_truth_texts, hypothesis_texts)\n",
    "    print(f\"\\nOverall Word Error Rate (WER): {overall_wer:.4f}\")\n",
    "\n",
    "    # Optionally, save detailed results\n",
    "    results_json_path = os.path.join(OUTPUT_DIR, \"detailed_asr_results_medium.json\")\n",
    "    with open(results_json_path, \"w\", encoding=\"utf-8\") as f:\n",
    "        json.dump(detailed_results, f, ensure_ascii=False, indent=4)\n",
    "    print(f\"Detailed results saved to {results_json_path}\")\n",
    "\n",
    "    # Optionally, save ground truth and hypothesis for debugging\n",
    "    with open(os.path.join(OUTPUT_DIR, \"ground_truth.txt\"), \"w\", encoding=\"utf-8\") as f:\n",
    "        for text in ground_truth_texts:\n",
    "            f.write(text + \"\\n\")\n",
    "    with open(os.path.join(OUTPUT_DIR, \"hypothesis_medium.txt\"), \"w\", encoding=\"utf-8\") as f:\n",
    "        for text in hypothesis_texts:\n",
    "            f.write(text + \"\\n\")\n",
    "    print(f\"Ground truth and hypothesis texts saved to {OUTPUT_DIR}/ground_truth.txt and {OUTPUT_DIR}/hypothesis.txt\")\n",
    "\n",
    "else:\n",
    "    print(\"No valid segments were processed for evaluation.\")"
   ]
  }
 ],
 "metadata": {
  "kernelspec": {
   "display_name": "onlyWhisper",
   "language": "python",
   "name": "python3"
  },
  "language_info": {
   "codemirror_mode": {
    "name": "ipython",
    "version": 3
   },
   "file_extension": ".py",
   "mimetype": "text/x-python",
   "name": "python",
   "nbconvert_exporter": "python",
   "pygments_lexer": "ipython3",
   "version": "3.11.8"
  }
 },
 "nbformat": 4,
 "nbformat_minor": 5
}
